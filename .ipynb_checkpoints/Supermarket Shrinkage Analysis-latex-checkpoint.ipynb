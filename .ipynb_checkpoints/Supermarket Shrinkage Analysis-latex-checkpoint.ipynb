{
 "cells": [
  {
   "cell_type": "markdown",
   "metadata": {},
   "source": [
    "#  Abstract\n",
    "\n"
   ]
  },
  {
   "cell_type": "markdown",
   "metadata": {},
   "source": [
    "This project analyzes shrinkage(Euro) of products that are sold at a german supermarket chain METRO in January 2020. The aim was to find valuable insights for reducing retail food waste and company's loss control. The sample data was given by METRONOM GmbH, the tech unit of metro. In the analysis we asked whether the different factors such as freshness and sales of the product affects the shrinkage. We split the shrinkage into different product categories and day of week, frequency of shrinkage and analyzed patterns based on these criteria. Also we took sales data into account to compare the shrinkage with and find any possible correlation. Through the analysis we found out that freshness criteria affects the frequency of shrinkage and on fridays the shrinkage is generated the most. Delicatessesn(feinkost) products had the highest shrinkage to sales ratio and sausage(wurst) products had the biggest shrinkage in sum, fish(frischfisch) products had the biggest average shrinkage. We found 69 products that had more shrinkage than sales and looked at its product categories and its sum, shrinkage to sales ratio, and distribution. This project will help to understand any underlying patterns on shrinkage produced from Metro's 'Lieferdepot Berlin' in January 2020. The results could be applied for optimizing inventory management to prevent food waste and control loss. Note that the sample is from a singular store in January, the measures does not ensure a reperesentative distribution and the results cannot be generalized. "
   ]
  },
  {
   "cell_type": "markdown",
   "metadata": {},
   "source": [
    "#  Introduction\n",
    "\n",
    "Reducing food waste has been always considered as one of the biggest sustainability challenge that mankind is facing. In the EU, around 88 million tonnes of food waste are generated annually with associated costs estimated 143 billion Euros. Food retailers take a huge responsibility on generating food waste footprint as they determine what products to travel from farms onto the shelves and shape the food consumer trends. It is important for retailers to have awareness on what kind of products get wasted and put effort on reducing the waste. \n",
    "\n",
    "In retail terms, shrinkage refers to a company's percent loss resulting from damage, product expiration and theft of unsold products. In this notebook, we will look into a dataset from a Metronom GmbH, a wholesale and food specialist company. How big is the shrinkage compared to sales? Is shrinkage worse in some product categories than in others? How frequent does shrinkage occur in different products? Metronom introduced us the concept of 'ultrafresh' and 'fresh' on different product categories. Commonly known fresh food such as meat, fish, vegetables and fruits were categorized as ultrafresh. Could ultrafresh products get wasted more frequently? On which days does shrinkage occur most commonly?  Our aims were to answer these questions by exploring the shrinkage data in different angles. Having insights on these various conditions helps the company to understand their products better, furthemore prevent the loss and increase the profitability. \n"
   ]
  },
  {
   "cell_type": "markdown",
   "metadata": {},
   "source": [
    "#  Data, materials and methods\n",
    "\n",
    "We will be working on a dataset provided by Metronom, which is from one of their retailer(depot) in Germany, containing shrinkage, stocks, sales data of their product catalogue in January 2020. The dataset is in german. "
   ]
  },
  {
   "cell_type": "code",
   "execution_count": 1,
   "metadata": {},
   "outputs": [],
   "source": [
    "import numpy as np \n",
    "import pandas as pd\n",
    "\n",
    "from urllib import request\n",
    "\n",
    "import matplotlib.pyplot as plt\n",
    "import seaborn as sns \n",
    "\n",
    "from dateutil.parser import parse\n",
    "from datetime import date\n",
    "import calendar"
   ]
  },
  {
   "cell_type": "markdown",
   "metadata": {},
   "source": [
    "## Loading the data \n",
    "    \n",
    "Let's load our data in using pandas: "
   ]
  },
  {
   "cell_type": "code",
   "execution_count": 2,
   "metadata": {},
   "outputs": [
    {
     "name": "stderr",
     "output_type": "stream",
     "text": [
      "/usr/local/lib/python3.7/site-packages/IPython/core/interactiveshell.py:3058: DtypeWarning: Columns (11) have mixed types.Specify dtype option on import or set low_memory=False.\n",
      "  interactivity=interactivity, compiler=compiler, result=result)\n"
     ]
    }
   ],
   "source": [
    "filepath = \"./data/Code data_METRONOM.csv\"\n",
    "df = pd.read_csv(filepath, encoding = \"ISO-8859-1\", error_bad_lines=False, sep=\"\\t\")"
   ]
  },
  {
   "cell_type": "markdown",
   "metadata": {},
   "source": [
    "##  Data Wrangling\n",
    "###  Renaming the columns"
   ]
  },
  {
   "cell_type": "code",
   "execution_count": 3,
   "metadata": {},
   "outputs": [
    {
     "name": "stdout",
     "output_type": "stream",
     "text": [
      "<class 'pandas.core.frame.DataFrame'>\n",
      "RangeIndex: 738671 entries, 0 to 738670\n",
      "Data columns (total 19 columns):\n",
      " #   Column                  Non-Null Count   Dtype  \n",
      "---  ------                  --------------   -----  \n",
      " 0   store_id                738671 non-null  int64  \n",
      " 1   store_desc              738671 non-null  object \n",
      " 2   CATMAN_BUY_DOMAIN_ID    738671 non-null  int64  \n",
      " 3   CATMAN_BUY_DOMAIN_DESC  738671 non-null  object \n",
      " 4   PCG_MAIN_CAT_ID         738671 non-null  int64  \n",
      " 5   PCG_CAT_ID              738671 non-null  int64  \n",
      " 6   PCG_CAT_DESC            738671 non-null  object \n",
      " 7   PCG_SUB_CAT_ID          738671 non-null  int64  \n",
      " 8   PCG_SUB_CAT_DESC        738671 non-null  object \n",
      " 9   ART_NO                  738671 non-null  int64  \n",
      " 10  ART_NAME                738671 non-null  object \n",
      " 11  Bv NNEK                 597 non-null     object \n",
      " 12  Bv Stk                  597 non-null     float64\n",
      " 13  Bestand Ist NNEK        738671 non-null  float64\n",
      " 14  Bestand Ist Stück       738671 non-null  float64\n",
      " 15  WA Stück                14075 non-null   float64\n",
      " 16  Umsatz VK Netto         14075 non-null   float64\n",
      " 17  date_of_day             738671 non-null  object \n",
      " 18  DAY_DESC                738671 non-null  object \n",
      "dtypes: float64(5), int64(6), object(8)\n",
      "memory usage: 107.1+ MB\n"
     ]
    }
   ],
   "source": [
    "df.info()"
   ]
  },
  {
   "cell_type": "markdown",
   "metadata": {},
   "source": [
    "The column names above are not easy to understand. First, we will rename these column names into more recognizable labels according to the information Metronom provided in prior to cleaning. "
   ]
  },
  {
   "cell_type": "code",
   "execution_count": 4,
   "metadata": {},
   "outputs": [],
   "source": [
    "df = df.rename(columns={\"CATMAN_BUY_DOMAIN_ID\": \"purchasing_area_id\",\n",
    "                        \"CATMAN_BUY_DOMAIN_DESC\": \"purchasing_area_description\",\n",
    "                        \"PCG_MAIN_CAT_ID\": \"main_product_group_id\",\n",
    "                        \"PCG_SUB_CAT_ID\": \"product_subgroup_category_id\",\n",
    "                        \"PCG_SUB_CAT_DESC\": \"product_subgroup_category_description\",\n",
    "                        \"PCG_CAT_ID\": \"product_group_category_id\",\n",
    "                        \"PCG_CAT_DESC\": \"product_group_category_description\",\n",
    "                        \"Bv NNEK\" : \"shrinkage_in_euros\",\n",
    "                        \"Bv Stk\" : \"shrinkage_in_pieces\",\n",
    "                        \"WA Stück\" : \"sales_in_pieces\",\n",
    "                        \"Umsatz VK Netto\" : \"sales_in_euros\",\n",
    "                        \"Bestand Ist NNEK\" : \"stock_in_euros\",\n",
    "                        \"Bestand Ist Stück\" : \"stock_per_day\"})\n"
   ]
  },
  {
   "cell_type": "markdown",
   "metadata": {},
   "source": [
    "###  Tidying up fields in the data\n",
    "\n",
    "\n",
    "Let's look into a sample set of the df and its datatypes."
   ]
  },
  {
   "cell_type": "code",
   "execution_count": 5,
   "metadata": {},
   "outputs": [
    {
     "data": {
      "text/html": [
       "<div>\n",
       "<style scoped>\n",
       "    .dataframe tbody tr th:only-of-type {\n",
       "        vertical-align: middle;\n",
       "    }\n",
       "\n",
       "    .dataframe tbody tr th {\n",
       "        vertical-align: top;\n",
       "    }\n",
       "\n",
       "    .dataframe thead th {\n",
       "        text-align: right;\n",
       "    }\n",
       "</style>\n",
       "<table border=\"1\" class=\"dataframe\">\n",
       "  <thead>\n",
       "    <tr style=\"text-align: right;\">\n",
       "      <th></th>\n",
       "      <th>store_id</th>\n",
       "      <th>store_desc</th>\n",
       "      <th>purchasing_area_id</th>\n",
       "      <th>purchasing_area_description</th>\n",
       "      <th>main_product_group_id</th>\n",
       "      <th>product_group_category_id</th>\n",
       "      <th>product_group_category_description</th>\n",
       "      <th>product_subgroup_category_id</th>\n",
       "      <th>product_subgroup_category_description</th>\n",
       "      <th>ART_NO</th>\n",
       "      <th>ART_NAME</th>\n",
       "      <th>shrinkage_in_euros</th>\n",
       "      <th>shrinkage_in_pieces</th>\n",
       "      <th>stock_in_euros</th>\n",
       "      <th>stock_per_day</th>\n",
       "      <th>sales_in_pieces</th>\n",
       "      <th>sales_in_euros</th>\n",
       "      <th>date_of_day</th>\n",
       "      <th>DAY_DESC</th>\n",
       "    </tr>\n",
       "  </thead>\n",
       "  <tbody>\n",
       "    <tr>\n",
       "      <th>9317</th>\n",
       "      <td>579</td>\n",
       "      <td>LIEFERDEPOT BERLIN</td>\n",
       "      <td>61</td>\n",
       "      <td>ACM BACKWAREN</td>\n",
       "      <td>872</td>\n",
       "      <td>3</td>\n",
       "      <td>Toastbrot</td>\n",
       "      <td>2</td>\n",
       "      <td>Buttertoast</td>\n",
       "      <td>458173</td>\n",
       "      <td>500g GAB BUTTERTOAST</td>\n",
       "      <td>-1,1162</td>\n",
       "      <td>-2.0</td>\n",
       "      <td>63.0</td>\n",
       "      <td>112.0</td>\n",
       "      <td>25.0</td>\n",
       "      <td>18.0</td>\n",
       "      <td>08.01.20</td>\n",
       "      <td>08.01.20 Mit</td>\n",
       "    </tr>\n",
       "    <tr>\n",
       "      <th>9329</th>\n",
       "      <td>579</td>\n",
       "      <td>LIEFERDEPOT BERLIN</td>\n",
       "      <td>61</td>\n",
       "      <td>ACM BACKWAREN</td>\n",
       "      <td>872</td>\n",
       "      <td>3</td>\n",
       "      <td>Toastbrot</td>\n",
       "      <td>2</td>\n",
       "      <td>Buttertoast</td>\n",
       "      <td>458173</td>\n",
       "      <td>500g GAB BUTTERTOAST</td>\n",
       "      <td>-33,486</td>\n",
       "      <td>-60.0</td>\n",
       "      <td>47.0</td>\n",
       "      <td>85.0</td>\n",
       "      <td>89.0</td>\n",
       "      <td>61.0</td>\n",
       "      <td>20.01.20</td>\n",
       "      <td>20.01.20 Mon</td>\n",
       "    </tr>\n",
       "    <tr>\n",
       "      <th>9331</th>\n",
       "      <td>579</td>\n",
       "      <td>LIEFERDEPOT BERLIN</td>\n",
       "      <td>61</td>\n",
       "      <td>ACM BACKWAREN</td>\n",
       "      <td>872</td>\n",
       "      <td>3</td>\n",
       "      <td>Toastbrot</td>\n",
       "      <td>2</td>\n",
       "      <td>Buttertoast</td>\n",
       "      <td>458173</td>\n",
       "      <td>500g GAB BUTTERTOAST</td>\n",
       "      <td>-0,5581</td>\n",
       "      <td>-1.0</td>\n",
       "      <td>78.0</td>\n",
       "      <td>140.0</td>\n",
       "      <td>69.0</td>\n",
       "      <td>45.0</td>\n",
       "      <td>22.01.20</td>\n",
       "      <td>22.01.20 Mit</td>\n",
       "    </tr>\n",
       "    <tr>\n",
       "      <th>9340</th>\n",
       "      <td>579</td>\n",
       "      <td>LIEFERDEPOT BERLIN</td>\n",
       "      <td>61</td>\n",
       "      <td>ACM BACKWAREN</td>\n",
       "      <td>872</td>\n",
       "      <td>3</td>\n",
       "      <td>Toastbrot</td>\n",
       "      <td>2</td>\n",
       "      <td>Buttertoast</td>\n",
       "      <td>458173</td>\n",
       "      <td>500g GAB BUTTERTOAST</td>\n",
       "      <td>-1,1162</td>\n",
       "      <td>-2.0</td>\n",
       "      <td>102.0</td>\n",
       "      <td>182.0</td>\n",
       "      <td>16.0</td>\n",
       "      <td>12.0</td>\n",
       "      <td>31.01.20</td>\n",
       "      <td>31.01.20 Fre</td>\n",
       "    </tr>\n",
       "    <tr>\n",
       "      <th>9342</th>\n",
       "      <td>579</td>\n",
       "      <td>LIEFERDEPOT BERLIN</td>\n",
       "      <td>61</td>\n",
       "      <td>ACM BACKWAREN</td>\n",
       "      <td>872</td>\n",
       "      <td>3</td>\n",
       "      <td>Toastbrot</td>\n",
       "      <td>3</td>\n",
       "      <td>Vollkorntoast</td>\n",
       "      <td>53487</td>\n",
       "      <td>500g GAB DREIKORNTOAST</td>\n",
       "      <td>-8,3632</td>\n",
       "      <td>-16.0</td>\n",
       "      <td>25.0</td>\n",
       "      <td>48.0</td>\n",
       "      <td>5.0</td>\n",
       "      <td>4.0</td>\n",
       "      <td>02.01.20</td>\n",
       "      <td>02.01.20 Don</td>\n",
       "    </tr>\n",
       "  </tbody>\n",
       "</table>\n",
       "</div>"
      ],
      "text/plain": [
       "      store_id          store_desc  purchasing_area_id  \\\n",
       "9317       579  LIEFERDEPOT BERLIN                  61   \n",
       "9329       579  LIEFERDEPOT BERLIN                  61   \n",
       "9331       579  LIEFERDEPOT BERLIN                  61   \n",
       "9340       579  LIEFERDEPOT BERLIN                  61   \n",
       "9342       579  LIEFERDEPOT BERLIN                  61   \n",
       "\n",
       "     purchasing_area_description  main_product_group_id  \\\n",
       "9317               ACM BACKWAREN                    872   \n",
       "9329               ACM BACKWAREN                    872   \n",
       "9331               ACM BACKWAREN                    872   \n",
       "9340               ACM BACKWAREN                    872   \n",
       "9342               ACM BACKWAREN                    872   \n",
       "\n",
       "      product_group_category_id product_group_category_description  \\\n",
       "9317                          3                          Toastbrot   \n",
       "9329                          3                          Toastbrot   \n",
       "9331                          3                          Toastbrot   \n",
       "9340                          3                          Toastbrot   \n",
       "9342                          3                          Toastbrot   \n",
       "\n",
       "      product_subgroup_category_id product_subgroup_category_description  \\\n",
       "9317                             2                           Buttertoast   \n",
       "9329                             2                           Buttertoast   \n",
       "9331                             2                           Buttertoast   \n",
       "9340                             2                           Buttertoast   \n",
       "9342                             3                         Vollkorntoast   \n",
       "\n",
       "      ART_NO                ART_NAME shrinkage_in_euros  shrinkage_in_pieces  \\\n",
       "9317  458173    500g GAB BUTTERTOAST            -1,1162                 -2.0   \n",
       "9329  458173    500g GAB BUTTERTOAST            -33,486                -60.0   \n",
       "9331  458173    500g GAB BUTTERTOAST            -0,5581                 -1.0   \n",
       "9340  458173    500g GAB BUTTERTOAST            -1,1162                 -2.0   \n",
       "9342   53487  500g GAB DREIKORNTOAST            -8,3632                -16.0   \n",
       "\n",
       "      stock_in_euros  stock_per_day  sales_in_pieces  sales_in_euros  \\\n",
       "9317            63.0          112.0             25.0            18.0   \n",
       "9329            47.0           85.0             89.0            61.0   \n",
       "9331            78.0          140.0             69.0            45.0   \n",
       "9340           102.0          182.0             16.0            12.0   \n",
       "9342            25.0           48.0              5.0             4.0   \n",
       "\n",
       "     date_of_day      DAY_DESC  \n",
       "9317    08.01.20  08.01.20 Mit  \n",
       "9329    20.01.20  20.01.20 Mon  \n",
       "9331    22.01.20  22.01.20 Mit  \n",
       "9340    31.01.20  31.01.20 Fre  \n",
       "9342    02.01.20  02.01.20 Don  "
      ]
     },
     "execution_count": 5,
     "metadata": {},
     "output_type": "execute_result"
    }
   ],
   "source": [
    "df.dropna(subset=[\"shrinkage_in_euros\"], inplace=False).head()"
   ]
  },
  {
   "cell_type": "code",
   "execution_count": 6,
   "metadata": {},
   "outputs": [
    {
     "data": {
      "text/plain": [
       "store_id                                   int64\n",
       "store_desc                                object\n",
       "purchasing_area_id                         int64\n",
       "purchasing_area_description               object\n",
       "main_product_group_id                      int64\n",
       "product_group_category_id                  int64\n",
       "product_group_category_description        object\n",
       "product_subgroup_category_id               int64\n",
       "product_subgroup_category_description     object\n",
       "ART_NO                                     int64\n",
       "ART_NAME                                  object\n",
       "shrinkage_in_euros                        object\n",
       "shrinkage_in_pieces                      float64\n",
       "stock_in_euros                           float64\n",
       "stock_per_day                            float64\n",
       "sales_in_pieces                          float64\n",
       "sales_in_euros                           float64\n",
       "date_of_day                               object\n",
       "DAY_DESC                                  object\n",
       "dtype: object"
      ]
     },
     "execution_count": 6,
     "metadata": {},
     "output_type": "execute_result"
    }
   ],
   "source": [
    "df.dtypes"
   ]
  },
  {
   "cell_type": "markdown",
   "metadata": {},
   "source": [
    "#### Incorrect formatting in `shrinkage_in_euros`\n",
    "From the table above, we can notice that in `shrinkage_in_euros` column, commas are being used, whereas in different columns periods are being used. We will replace these commas in `shrinkage_in_euros` to periods. Also the datatype of `shrinkage_in_euros` are currently object. We will change the datatype to numerical data so we can use them properly in the analysis."
   ]
  },
  {
   "cell_type": "code",
   "execution_count": 7,
   "metadata": {},
   "outputs": [],
   "source": [
    "df[\"shrinkage_in_euros\"].replace(',','.',inplace = True, regex = True)"
   ]
  },
  {
   "cell_type": "code",
   "execution_count": 8,
   "metadata": {},
   "outputs": [],
   "source": [
    "df[[\"shrinkage_in_euros\"]] = df[[\"shrinkage_in_euros\"]].apply(pd.to_numeric)"
   ]
  },
  {
   "cell_type": "markdown",
   "metadata": {},
   "source": [
    "###  Adding new features\n",
    "#### New feature 1 : `weekday` \n",
    "\n",
    "`DAY_DESC` column includes day data with dates but the current formatting with shortened day name in german makes it difficult to use for analysis. We figured out that, by using `date_of_day` we can extract the data on which day shrinkage or sales occur and this will be useful for our analysis. We will add a new feature called `weekday`.  "
   ]
  },
  {
   "cell_type": "code",
   "execution_count": 9,
   "metadata": {},
   "outputs": [],
   "source": [
    "df[\"date_of_day\"] = pd.to_datetime(df[\"date_of_day\"], format = \"%d.%m.%y\")\n",
    "df[\"weekday_number\"] = df[\"date_of_day\"].dt.dayofweek\n",
    "df[\"weekday\"] = df[\"weekday_number\"].apply(lambda x: calendar.day_name[x])"
   ]
  },
  {
   "cell_type": "markdown",
   "metadata": {},
   "source": [
    "#### New feature 2 : `freshness`\n",
    "\n",
    "Metronom informed us their products can be categorized into two big categories, 'fresh' and 'ultrafresh'. This is called `freshness` criteria. \n",
    "\n",
    "There are 5 purchasing areas that goes into 'ultrafresh': \n",
    "'ACM FLEISCH','ACM FRISCHFISCH', 'ACM GEMUESE', 'ACM BLUMEN' and 'ACM OBST'. And the rest of purchasing areas:'ACM MOLKEREIPRODUKTE','ACM KAESE', 'ACM FEINKOST', 'ACM BACKWAREN', 'ACM WURST', 'ACM GOURVENIENCE' are considered as 'fresh'.\n",
    "\n",
    "This information is not included in this dataset so we will add this categorical column on our dataframe. "
   ]
  },
  {
   "cell_type": "code",
   "execution_count": 10,
   "metadata": {},
   "outputs": [],
   "source": [
    "df = df.assign(freshness = 'fresh')\n",
    "df.loc[df['purchasing_area_description'] == 'ACM FLEISCH', 'freshness'] = 'ultrafresh'\n",
    "df.loc[df['purchasing_area_description'] == 'ACM FRISCHFISCH', 'freshness'] = 'ultrafresh'\n",
    "df.loc[df['purchasing_area_description'] == 'ACM GEMUESE', 'freshness'] = 'ultrafresh'\n",
    "df.loc[df['purchasing_area_description'] == 'ACM BLUMEN', 'freshness'] = 'ultrafresh'\n",
    "df.loc[df['purchasing_area_description'] == 'ACM OBST', 'freshness'] = 'ultrafresh'"
   ]
  },
  {
   "cell_type": "markdown",
   "metadata": {},
   "source": [
    "#### New feature 3 : `shrinkage_counts`\n",
    "\n",
    "I will add another column `shrinkage_counts` that counts how many times a same article had shrinkage in one month. This will be useful for working with frequency of shrinkage later."
   ]
  },
  {
   "cell_type": "code",
   "execution_count": 11,
   "metadata": {},
   "outputs": [],
   "source": [
    "df[\"shrinkage_counts\"] = df.groupby([\"ART_NO\"], observed=True)[\"shrinkage_in_euros\"].transform('count')"
   ]
  },
  {
   "cell_type": "markdown",
   "metadata": {},
   "source": [
    "###  Dropping unnecessary columns\n",
    "\n",
    "For convenience we will drop the columns that we do not need for the analysis. For categorical columns, we will only use `purchasing_area_description`, `product_subgroup_category_description`, `ART_NO` and `ART_NAME`. \n",
    "\n",
    "For the numerical columns, we won't be using any stock data as the way it has been recorded on the dataset differs from shrinkage and sales. Each row means the stock recorded by the end of the day, thus we cannot use it for comparing the sum of sales, shrinkage and stock. We decided to use `shrinkage_in_euros` and `sales_in_euros` instead of pieces, not only because of missing/non matching values but also we need a unifying unit that can be used for comparing the whole product lines."
   ]
  },
  {
   "cell_type": "code",
   "execution_count": 12,
   "metadata": {},
   "outputs": [],
   "source": [
    "df = df.drop(['store_id','store_desc','DAY_DESC','purchasing_area_id',\n",
    "             'main_product_group_id','product_group_category_id',\n",
    "              'product_subgroup_category_description','product_subgroup_category_id',\n",
    "              'weekday_number','stock_in_euros','stock_per_day',\n",
    "              'sales_in_pieces','shrinkage_in_pieces'], axis = 1)"
   ]
  },
  {
   "cell_type": "markdown",
   "metadata": {},
   "source": [
    "###  Dealing with missing values\n",
    "\n",
    "NaN on datasets normally refers to missing value, and they need to be treated differently. We can observe from the outcome below that there are a lot of missing values on shrinkage and sales data out of 738671 rows. \n",
    "\n",
    "According to the experts in Metronom, NaN on these columns can be treated as 0, as it doesn't mean that the data is missing, but it was simply not recorded when sales nor shrinkage did not occur. We will convert the NaNs on `shrinkage_in_euros` into 0. "
   ]
  },
  {
   "cell_type": "code",
   "execution_count": 13,
   "metadata": {},
   "outputs": [
    {
     "name": "stdout",
     "output_type": "stream",
     "text": [
      "<class 'pandas.core.frame.DataFrame'>\n",
      "RangeIndex: 738671 entries, 0 to 738670\n",
      "Data columns (total 10 columns):\n",
      " #   Column                              Non-Null Count   Dtype         \n",
      "---  ------                              --------------   -----         \n",
      " 0   purchasing_area_description         738671 non-null  object        \n",
      " 1   product_group_category_description  738671 non-null  object        \n",
      " 2   ART_NO                              738671 non-null  int64         \n",
      " 3   ART_NAME                            738671 non-null  object        \n",
      " 4   shrinkage_in_euros                  597 non-null     float64       \n",
      " 5   sales_in_euros                      14075 non-null   float64       \n",
      " 6   date_of_day                         738671 non-null  datetime64[ns]\n",
      " 7   weekday                             738671 non-null  object        \n",
      " 8   freshness                           738671 non-null  object        \n",
      " 9   shrinkage_counts                    738671 non-null  int64         \n",
      "dtypes: datetime64[ns](1), float64(2), int64(2), object(5)\n",
      "memory usage: 56.4+ MB\n"
     ]
    }
   ],
   "source": [
    "df.info()"
   ]
  },
  {
   "cell_type": "code",
   "execution_count": 14,
   "metadata": {},
   "outputs": [],
   "source": [
    "df['shrinkage_in_euros'].fillna(0, inplace = True)\n",
    "df['sales_in_euros'].fillna(0, inplace = True)"
   ]
  },
  {
   "cell_type": "markdown",
   "metadata": {},
   "source": [
    "###  Converting the datatypes into right types"
   ]
  },
  {
   "cell_type": "code",
   "execution_count": 15,
   "metadata": {},
   "outputs": [
    {
     "data": {
      "text/plain": [
       "purchasing_area_description                   object\n",
       "product_group_category_description            object\n",
       "ART_NO                                         int64\n",
       "ART_NAME                                      object\n",
       "shrinkage_in_euros                           float64\n",
       "sales_in_euros                               float64\n",
       "date_of_day                           datetime64[ns]\n",
       "weekday                                       object\n",
       "freshness                                     object\n",
       "shrinkage_counts                               int64\n",
       "dtype: object"
      ]
     },
     "execution_count": 15,
     "metadata": {},
     "output_type": "execute_result"
    }
   ],
   "source": [
    "df.dtypes"
   ]
  },
  {
   "cell_type": "markdown",
   "metadata": {},
   "source": [
    "We will change the categorical columns that are currently in object data type to category data type for higher efficiency in sorting and storing the data."
   ]
  },
  {
   "cell_type": "code",
   "execution_count": 16,
   "metadata": {},
   "outputs": [],
   "source": [
    "for col in ['purchasing_area_description', 'product_group_category_description',\n",
    "           'ART_NO', 'ART_NAME','weekday', 'freshness']:\n",
    "    df[col] = df[col].astype('category')"
   ]
  },
  {
   "cell_type": "markdown",
   "metadata": {},
   "source": [
    "###  Shaping the dataframe according to the goal\n",
    "\n",
    "In prior to exploratory analysis, dataframe needs to be cleaned  according to the goal. On this project we will focus on analysing the <b>articles that had shrinkage in any of the days in January 2020.</b> Articles that never had any shrinkage are considered as irrelvant for the project. "
   ]
  },
  {
   "cell_type": "code",
   "execution_count": 17,
   "metadata": {},
   "outputs": [
    {
     "data": {
      "text/plain": [
       "999411    31\n",
       "197812    31\n",
       "197675    31\n",
       "197677    31\n",
       "197686    31\n",
       "          ..\n",
       "386854    10\n",
       "8472       4\n",
       "389721     2\n",
       "391103     1\n",
       "392124     1\n",
       "Name: ART_NO, Length: 23845, dtype: int64"
      ]
     },
     "execution_count": 17,
     "metadata": {},
     "output_type": "execute_result"
    }
   ],
   "source": [
    "df[\"ART_NO\"].value_counts() "
   ]
  },
  {
   "cell_type": "markdown",
   "metadata": {},
   "source": [
    "This dataframe consists of store data collected within January 2020. There were 31 days in January. We can assume that each article's data got recorded every day in January, by checking how many rows that each `ART_NO` has. From the outcome of the code above, we can see that not every article has data on all of the 31 days in january. We will only look into articles that has data on the whole month of January for analysis. Also as the Depot does not operate on saturday and sundays, as well as 1st of January, we will drop these dates for better plotting."
   ]
  },
  {
   "cell_type": "code",
   "execution_count": 18,
   "metadata": {},
   "outputs": [],
   "source": [
    "df = df.groupby(\"ART_NO\").filter(lambda x: (x.name != 0 ) and (x.ART_NO.size == 31))\n",
    "df = df.drop(df[df.weekday == \"Saturday\"].index)\n",
    "df = df.drop(df[df.weekday == \"Sunday\"].index)\n",
    "df = df.drop(df[df.date_of_day == \"2020-01-01\"].index)"
   ]
  },
  {
   "cell_type": "code",
   "execution_count": 19,
   "metadata": {},
   "outputs": [
    {
     "data": {
      "text/plain": [
       "(523732, 10)"
      ]
     },
     "execution_count": 19,
     "metadata": {},
     "output_type": "execute_result"
    }
   ],
   "source": [
    "df.shape"
   ]
  },
  {
   "cell_type": "markdown",
   "metadata": {},
   "source": [
    "#### Dealing with positive shrinkage"
   ]
  },
  {
   "cell_type": "code",
   "execution_count": 20,
   "metadata": {},
   "outputs": [
    {
     "data": {
      "text/plain": [
       "purchasing_area_description           7\n",
       "product_group_category_description    7\n",
       "ART_NO                                7\n",
       "ART_NAME                              7\n",
       "shrinkage_in_euros                    7\n",
       "sales_in_euros                        7\n",
       "date_of_day                           7\n",
       "weekday                               7\n",
       "freshness                             7\n",
       "shrinkage_counts                      7\n",
       "dtype: int64"
      ]
     },
     "execution_count": 20,
     "metadata": {},
     "output_type": "execute_result"
    }
   ],
   "source": [
    "df[df[\"shrinkage_in_euros\"] > 0 ].count()"
   ]
  },
  {
   "cell_type": "markdown",
   "metadata": {},
   "source": [
    "On this dataset, when shrinkage had occured, they were recorded in `shrinkage_in_euros` column as negative value. Although we can see there are 7 rows of shrinkage that has positive number rather than negative. According to the expert in Metronom positive shrinkage can occur from various reasons such as employee mistakes. These data are considered as incorrect and we got advised to exclude these rows from analysis.  "
   ]
  },
  {
   "cell_type": "code",
   "execution_count": 21,
   "metadata": {},
   "outputs": [],
   "source": [
    "#drop positive shrinkage 7 rows \n",
    "df.drop(df[df[\"shrinkage_in_euros\"] > 0].index, inplace=True)"
   ]
  },
  {
   "cell_type": "markdown",
   "metadata": {},
   "source": [
    "#### Modifying `shrinkage_in_euros` into absolute values"
   ]
  },
  {
   "cell_type": "markdown",
   "metadata": {},
   "source": [
    "To compare `shrinkage_in_euros` with `sales_in_euros`, we will convert these values into their absolute values for better plotting. "
   ]
  },
  {
   "cell_type": "code",
   "execution_count": 22,
   "metadata": {},
   "outputs": [],
   "source": [
    "df['shrinkage_in_euros'] = df['shrinkage_in_euros'].abs()"
   ]
  },
  {
   "cell_type": "markdown",
   "metadata": {},
   "source": [
    "#### Creating a subset of articles that has shrinkage: <i>sdf</i>"
   ]
  },
  {
   "cell_type": "markdown",
   "metadata": {},
   "source": [
    "Now we have to look for articles that had shrinkage in df and store the `ART_NO` in a list called 'artno', make a new df with articles that has the same `ART_NO` in 'artno'."
   ]
  },
  {
   "cell_type": "code",
   "execution_count": 23,
   "metadata": {},
   "outputs": [
    {
     "data": {
      "text/plain": [
       "[458173, 53487, 53912, 452669, 668258, ..., 586725, 140473, 227174, 37346, 778417]\n",
       "Length: 408\n",
       "Categories (408, int64): [458173, 53487, 53912, 452669, ..., 140473, 227174, 37346, 778417]"
      ]
     },
     "execution_count": 23,
     "metadata": {},
     "output_type": "execute_result"
    }
   ],
   "source": [
    "df1 = df[df[\"shrinkage_in_euros\"] > 0]\n",
    "artno = pd.unique(df1[\"ART_NO\"])\n",
    "artno"
   ]
  },
  {
   "cell_type": "markdown",
   "metadata": {},
   "source": [
    "There are 408 products that had shrinkage in January 2020."
   ]
  },
  {
   "cell_type": "code",
   "execution_count": 24,
   "metadata": {},
   "outputs": [],
   "source": [
    "new_df = []\n",
    "for article in artno: \n",
    "    new_df.append(df[df.ART_NO == article])"
   ]
  },
  {
   "cell_type": "code",
   "execution_count": 25,
   "metadata": {},
   "outputs": [],
   "source": [
    "sdf = pd.concat(new_df)"
   ]
  },
  {
   "cell_type": "code",
   "execution_count": 26,
   "metadata": {},
   "outputs": [
    {
     "data": {
      "text/plain": [
       "(8973, 10)"
      ]
     },
     "execution_count": 26,
     "metadata": {},
     "output_type": "execute_result"
    }
   ],
   "source": [
    "sdf.shape"
   ]
  },
  {
   "cell_type": "markdown",
   "metadata": {},
   "source": [
    "#  Results"
   ]
  },
  {
   "cell_type": "markdown",
   "metadata": {},
   "source": [
    "##  Summary of the dataframe"
   ]
  },
  {
   "cell_type": "markdown",
   "metadata": {},
   "source": [
    "We are going to use the dataframe 'sdf' for the analysis. \n",
    "\n",
    "sdf: Shrinkage and sales data of <b>408 articles that had shrinkage</b> in January 2020, that has data for the whole month at LIEFERDEPOT BERLIN. Each article has data of 22 days, excluding weekends and holidays in January."
   ]
  },
  {
   "cell_type": "code",
   "execution_count": 27,
   "metadata": {},
   "outputs": [
    {
     "data": {
      "text/plain": [
       "(8973, 10)"
      ]
     },
     "execution_count": 27,
     "metadata": {},
     "output_type": "execute_result"
    }
   ],
   "source": [
    "sdf.shape"
   ]
  },
  {
   "cell_type": "code",
   "execution_count": 28,
   "metadata": {},
   "outputs": [
    {
     "name": "stdout",
     "output_type": "stream",
     "text": [
      "<class 'pandas.core.frame.DataFrame'>\n",
      "Int64Index: 8973 entries, 9311 to 589374\n",
      "Data columns (total 10 columns):\n",
      " #   Column                              Non-Null Count  Dtype         \n",
      "---  ------                              --------------  -----         \n",
      " 0   purchasing_area_description         8973 non-null   category      \n",
      " 1   product_group_category_description  8973 non-null   category      \n",
      " 2   ART_NO                              8973 non-null   category      \n",
      " 3   ART_NAME                            8973 non-null   category      \n",
      " 4   shrinkage_in_euros                  8973 non-null   float64       \n",
      " 5   sales_in_euros                      8973 non-null   float64       \n",
      " 6   date_of_day                         8973 non-null   datetime64[ns]\n",
      " 7   weekday                             8973 non-null   category      \n",
      " 8   freshness                           8973 non-null   category      \n",
      " 9   shrinkage_counts                    8973 non-null   int64         \n",
      "dtypes: category(6), datetime64[ns](1), float64(2), int64(1)\n",
      "memory usage: 2.0 MB\n"
     ]
    }
   ],
   "source": [
    "sdf.info()"
   ]
  },
  {
   "cell_type": "markdown",
   "metadata": {},
   "source": [
    "0. `purchasing_area_description`: Main product category. There are 11 different categories: ACM FLEISCH, ACM FRISHFISCH, ACM GEMUESE, ACM BLUMEN, ACM OBST, ACM MOLKEREIPRODUKTE, ACM KAESE, ACM FEINKOST, ACM BACKWAREN, ACM WURST, ACM GOURVENIENCE<br>\n",
    "1. `product_subgroup_category_description`: Product subgroup category.<br>\n",
    "2. `ART_NO`: Unique number of the article. 408 article numbers<br>\n",
    "3. `ART_NAME`: Name of the article. 408 article names <br>\n",
    "4. `shrinkage_in_euros`: Daily shrinkage in euros in January 2020<br>\n",
    "5. `sales_in_euros`: Sales in euros per day in January 2020 <br>\n",
    "6. `date_of_day`: The date the data was recorded. Format: day.month.year. Range: 01.01.20 to 31.01.20. <br>\n",
    "7. `weekday` : Monday, Tuesday, Wednesday, Thursday, Friday, Saturday, Sunday\n",
    "8. `freshness` : Ultrafresh: when articles are in [ACM FLEISCH,ACM FRISHFISCH, ACM GEMUESE, ACM BLUMEN, ACM OBST]\n",
    "Fresh: [ACM MOLKEREIPRODUKTE, ACM KAESE, ACM FEINKOST, ACM BACKWAREN, ACM WURST, ACM GOURVENIENCE]\n",
    "9. `shrinkage_counts`: Frequency of shrinkage per article in January 2020"
   ]
  },
  {
   "cell_type": "markdown",
   "metadata": {},
   "source": [
    "## Dataframe Overview"
   ]
  },
  {
   "cell_type": "markdown",
   "metadata": {},
   "source": [
    "Let's plot the dataset by `purchasing_area_description` and `freshness` criteria for a clear overview."
   ]
  },
  {
   "cell_type": "code",
   "execution_count": 50,
   "metadata": {},
   "outputs": [
    {
     "data": {
      "image/png": "[encoded data removed]",
      "text/plain": [
       "<Figure size 864x360 with 2 Axes>"
      ]
     },
     "metadata": {},
     "output_type": "display_data"
    }
   ],
   "source": [
    "sns.set(style=\"darkgrid\")\n",
    "colors = ['#ff7a9c', '#ff998e', '#ffba8f', '#ffdaa0', '#fff8bf', '#eaf89e', '#c7fa83',\n",
    "          '#91fd72','#00ff70']\n",
    "colors_freshness = ['#c2c2f0','#ffb3e6']\n",
    "\n",
    "\n",
    "fig, (ax1, ax2) = plt.subplots(1,2,figsize=(12,5))\n",
    "\n",
    "ax1 = sdf[\"purchasing_area_description\"].value_counts()[:].plot(kind='pie',\n",
    "                                                          autopct='%1.1f%%', colors=colors, textprops={'fontsize': 10},ax=ax1)\n",
    "ax1.set_xlabel('Purchasing Area', fontsize=12)\n",
    "ax1.set_ylabel('')\n",
    "\n",
    "ax2 = sdf[\"freshness\"].value_counts()[:].plot(kind='pie',autopct='%1.1f%%', colors=colors_freshness, ax=ax2)\n",
    "ax2.set_xlabel('Freshness', fontsize=12 )\n",
    "ax2.set_ylabel('')\n",
    "\n",
    "fig.subplots_adjust(wspace=1)\n",
    "ax1.axis('equal')\n",
    "ax2.axis('equal')\n",
    "\n",
    "plt.show()\n"
   ]
  },
  {
   "cell_type": "markdown",
   "metadata": {},
   "source": [
    "<center>Figure 1. Proportion of total products by purchasing area and freshness</center>"
   ]
  },
  {
   "cell_type": "code",
   "execution_count": 65,
   "metadata": {},
   "outputs": [
    {
     "data": {
      "text/plain": [
       "Text(0.5, 0, 'Date of Day')"
      ]
     },
     "execution_count": 65,
     "metadata": {},
     "output_type": "execute_result"
    },
    {
     "data": {
      "image/png": "[encoded data removed]",
      "text/plain": [
       "<Figure size 504x288 with 1 Axes>"
      ]
     },
     "metadata": {},
     "output_type": "display_data"
    }
   ],
   "source": [
    "gdf_date = sdf.groupby(['date_of_day']).agg({'sales_in_euros':'sum','shrinkage_in_euros':'sum'})\n",
    "fig, ax = plt.subplots(figsize = (7,4))\n",
    "gdf_date.plot(ax=ax)\n",
    "ax.set_xlabel('Date of Day', fontsize='medium')"
   ]
  },
  {
   "cell_type": "markdown",
   "metadata": {},
   "source": [
    "<center>Figure 2. Trend of sales and shrinkage in January 2020</center>"
   ]
  },
  {
   "cell_type": "markdown",
   "metadata": {},
   "source": [
    "## Exploring Shrinkage"
   ]
  },
  {
   "cell_type": "markdown",
   "metadata": {},
   "source": [
    "How much does shrinkage take part in total? How big is it compared to the sales? Let's first check on these simple questions for overview. "
   ]
  },
  {
   "cell_type": "code",
   "execution_count": 31,
   "metadata": {},
   "outputs": [
    {
     "data": {
      "text/plain": [
       "22867.7783"
      ]
     },
     "execution_count": 31,
     "metadata": {},
     "output_type": "execute_result"
    }
   ],
   "source": [
    "#sum of shrinkage in total\n",
    "sdf[\"shrinkage_in_euros\"].sum()"
   ]
  },
  {
   "cell_type": "code",
   "execution_count": 32,
   "metadata": {},
   "outputs": [
    {
     "data": {
      "text/plain": [
       "230127.53600000002"
      ]
     },
     "execution_count": 32,
     "metadata": {},
     "output_type": "execute_result"
    }
   ],
   "source": [
    "#sum of sales in total \n",
    "sdf[\"sales_in_euros\"].sum()"
   ]
  },
  {
   "cell_type": "code",
   "execution_count": 33,
   "metadata": {},
   "outputs": [
    {
     "data": {
      "text/plain": [
       "0.09937002193427213"
      ]
     },
     "execution_count": 33,
     "metadata": {},
     "output_type": "execute_result"
    }
   ],
   "source": [
    "sdf['shrinkage_in_euros'].sum() / sdf['sales_in_euros'].sum() "
   ]
  },
  {
   "cell_type": "markdown",
   "metadata": {},
   "source": [
    "Total shrinkage in euros was approximately the size of 10% of total sales. It's pretty big. Let's have a closer look at the shrinkage of different `purchasing_area_description` and find out which products have more shrinkage than others.  "
   ]
  },
  {
   "cell_type": "code",
   "execution_count": 54,
   "metadata": {},
   "outputs": [
    {
     "data": {
      "image/png": "[encoded data removed]",
      "text/plain": [
       "<Figure size 864x360 with 2 Axes>"
      ]
     },
     "metadata": {},
     "output_type": "display_data"
    }
   ],
   "source": [
    "fig, (ax1, ax2) = plt.subplots(1,2,figsize=(12,5))\n",
    "sdf.groupby(\"purchasing_area_description\",observed=True).agg({\"shrinkage_in_euros\":\"sum\"}).plot(kind='pie',\n",
    "                                                                                                     autopct='%1.1f%%', y=\"shrinkage_in_euros\",colors=colors,ax=ax1, legend=False)\n",
    "ax1.set_xlabel('Purchasing Area', fontsize=12)\n",
    "ax1.set_ylabel('')\n",
    "sdf.groupby(\"freshness\", observed=True).agg({\"shrinkage_in_euros\":\"sum\"}).plot(kind='pie',autopct='%1.1f%%', y=\"shrinkage_in_euros\",colors=colors_freshness, ax=ax2, legend=False)\n",
    "ax2.set_xlabel('Freshness', fontsize=12 )\n",
    "ax2.set_ylabel('')\n",
    "fig.subplots_adjust(wspace=1)\n",
    "ax1.axis('equal')\n",
    "ax2.axis('equal')\n",
    "plt.show()"
   ]
  },
  {
   "cell_type": "markdown",
   "metadata": {},
   "source": [
    "<center>Figure 3. Proportion of shrinkage per purchasing area and freshness in January 2020: WURST and MOLKEREI PRODUKTE had the most shrinkage and fresh products got more wasted than ultrafresh products.</center>\n"
   ]
  },
  {
   "cell_type": "markdown",
   "metadata": {},
   "source": [
    "### Shrinkage by purchasing area: compared to Sales "
   ]
  },
  {
   "cell_type": "code",
   "execution_count": 55,
   "metadata": {},
   "outputs": [
    {
     "data": {
      "text/html": [
       "<div>\n",
       "<style scoped>\n",
       "    .dataframe tbody tr th:only-of-type {\n",
       "        vertical-align: middle;\n",
       "    }\n",
       "\n",
       "    .dataframe tbody tr th {\n",
       "        vertical-align: top;\n",
       "    }\n",
       "\n",
       "    .dataframe thead th {\n",
       "        text-align: right;\n",
       "    }\n",
       "</style>\n",
       "<table border=\"1\" class=\"dataframe\">\n",
       "  <thead>\n",
       "    <tr style=\"text-align: right;\">\n",
       "      <th></th>\n",
       "      <th></th>\n",
       "      <th>shrinkage_in_euros</th>\n",
       "      <th>sales_in_euros</th>\n",
       "    </tr>\n",
       "    <tr>\n",
       "      <th>freshness</th>\n",
       "      <th>purchasing_area_description</th>\n",
       "      <th></th>\n",
       "      <th></th>\n",
       "    </tr>\n",
       "  </thead>\n",
       "  <tbody>\n",
       "    <tr>\n",
       "      <th rowspan=\"4\" valign=\"top\">fresh</th>\n",
       "      <th>ACM WURST</th>\n",
       "      <td>5156.0581</td>\n",
       "      <td>25991.000</td>\n",
       "    </tr>\n",
       "    <tr>\n",
       "      <th>ACM MOLKEREIPRODUKTE</th>\n",
       "      <td>4352.5724</td>\n",
       "      <td>80462.536</td>\n",
       "    </tr>\n",
       "    <tr>\n",
       "      <th>ACM KAESE</th>\n",
       "      <td>3716.3172</td>\n",
       "      <td>23642.000</td>\n",
       "    </tr>\n",
       "    <tr>\n",
       "      <th>ACM FEINKOST</th>\n",
       "      <td>3371.1331</td>\n",
       "      <td>8323.000</td>\n",
       "    </tr>\n",
       "    <tr>\n",
       "      <th rowspan=\"4\" valign=\"top\">ultrafresh</th>\n",
       "      <th>ACM GEMUESE</th>\n",
       "      <td>2400.3624</td>\n",
       "      <td>41742.000</td>\n",
       "    </tr>\n",
       "    <tr>\n",
       "      <th>ACM FLEISCH</th>\n",
       "      <td>2184.6305</td>\n",
       "      <td>32674.000</td>\n",
       "    </tr>\n",
       "    <tr>\n",
       "      <th>ACM FRISCHFISCH</th>\n",
       "      <td>1256.6433</td>\n",
       "      <td>9312.000</td>\n",
       "    </tr>\n",
       "    <tr>\n",
       "      <th>ACM OBST</th>\n",
       "      <td>230.1300</td>\n",
       "      <td>4084.000</td>\n",
       "    </tr>\n",
       "    <tr>\n",
       "      <th>fresh</th>\n",
       "      <th>ACM BACKWAREN</th>\n",
       "      <td>199.9313</td>\n",
       "      <td>3897.000</td>\n",
       "    </tr>\n",
       "  </tbody>\n",
       "</table>\n",
       "</div>"
      ],
      "text/plain": [
       "                                        shrinkage_in_euros  sales_in_euros\n",
       "freshness  purchasing_area_description                                    \n",
       "fresh      ACM WURST                             5156.0581       25991.000\n",
       "           ACM MOLKEREIPRODUKTE                  4352.5724       80462.536\n",
       "           ACM KAESE                             3716.3172       23642.000\n",
       "           ACM FEINKOST                          3371.1331        8323.000\n",
       "ultrafresh ACM GEMUESE                           2400.3624       41742.000\n",
       "           ACM FLEISCH                           2184.6305       32674.000\n",
       "           ACM FRISCHFISCH                       1256.6433        9312.000\n",
       "           ACM OBST                               230.1300        4084.000\n",
       "fresh      ACM BACKWAREN                          199.9313        3897.000"
      ]
     },
     "execution_count": 55,
     "metadata": {},
     "output_type": "execute_result"
    }
   ],
   "source": [
    "sdf.groupby([\"freshness\",\"purchasing_area_description\"], observed=True).agg({\"shrinkage_in_euros\":\"sum\",\"sales_in_euros\":\"sum\"}).sort_values('shrinkage_in_euros', ascending=False)"
   ]
  },
  {
   "cell_type": "markdown",
   "metadata": {},
   "source": [
    "<center>Table 1. Sum of shrinkage and sales per each purchasing area description in descending order</center>"
   ]
  },
  {
   "cell_type": "code",
   "execution_count": 58,
   "metadata": {},
   "outputs": [
    {
     "data": {
      "text/plain": [
       "Text(0.5, 0, '')"
      ]
     },
     "execution_count": 58,
     "metadata": {},
     "output_type": "execute_result"
    },
    {
     "data": {
      "image/png": "[encoded data removed]",
      "text/plain": [
       "<Figure size 864x360 with 2 Axes>"
      ]
     },
     "metadata": {},
     "output_type": "display_data"
    }
   ],
   "source": [
    "fig, (ax1, ax2) = plt.subplots(1,2,figsize=(12,5))\n",
    "ax1 = sdf.groupby(\"purchasing_area_description\", observed=True).agg({\"shrinkage_in_euros\":\"sum\",\"sales_in_euros\":\"sum\"}).plot(kind='bar',color = ['cyan','blue'], edgecolor = 'darkblue', ax=ax1)\n",
    "ax1.legend([\"Sum of Shrinkage in Euro\", \"Sum of Sales in Euro\"])\n",
    "ax2 = sdf.groupby(\"purchasing_area_description\", observed=True).agg({\"shrinkage_in_euros\":\"mean\"}).plot(kind='bar',color = ['cyan'], edgecolor = 'darkblue', ax=ax2)\n",
    "ax2.legend([\"Average Shrinkage in Euro\"])\n",
    "ax1.set_xlabel(\"\")\n",
    "ax2.set_xlabel(\"\")"
   ]
  },
  {
   "cell_type": "markdown",
   "metadata": {},
   "source": [
    "<center>Figure 4.Sum of shrinkage and sum of sales in Euro per purchasing area<br>\n",
    "Figure 5. Average shrinkage in Euro per purchasing area</center>\n"
   ]
  },
  {
   "cell_type": "markdown",
   "metadata": {},
   "source": [
    "According to table 1 and figure 4, products from 'ACM FRISCHFISCH' did not have highest shrinkage in sum, but based on figure 5, products from 'ACM FRISCHFISCH' has the highest shrinkage in average. In contrast, products from 'ACM BACKWAREN' has the lowest average shrinkage and also lowest in sum.\n",
    "\n",
    "It looks like some purchasing area has bigger shrinkage to sales ratio than the others. Let's calculate the ratio of shrinkage of each purchasing area to its sales."
   ]
  },
  {
   "cell_type": "code",
   "execution_count": 59,
   "metadata": {},
   "outputs": [
    {
     "data": {
      "text/html": [
       "<div>\n",
       "<style scoped>\n",
       "    .dataframe tbody tr th:only-of-type {\n",
       "        vertical-align: middle;\n",
       "    }\n",
       "\n",
       "    .dataframe tbody tr th {\n",
       "        vertical-align: top;\n",
       "    }\n",
       "\n",
       "    .dataframe thead th {\n",
       "        text-align: right;\n",
       "    }\n",
       "</style>\n",
       "<table border=\"1\" class=\"dataframe\">\n",
       "  <thead>\n",
       "    <tr style=\"text-align: right;\">\n",
       "      <th></th>\n",
       "      <th>0</th>\n",
       "    </tr>\n",
       "    <tr>\n",
       "      <th>purchasing_area_description</th>\n",
       "      <th></th>\n",
       "    </tr>\n",
       "  </thead>\n",
       "  <tbody>\n",
       "    <tr>\n",
       "      <th>ACM FEINKOST</th>\n",
       "      <td>0.405038</td>\n",
       "    </tr>\n",
       "    <tr>\n",
       "      <th>ACM WURST</th>\n",
       "      <td>0.198379</td>\n",
       "    </tr>\n",
       "    <tr>\n",
       "      <th>ACM KAESE</th>\n",
       "      <td>0.157191</td>\n",
       "    </tr>\n",
       "    <tr>\n",
       "      <th>ACM FRISCHFISCH</th>\n",
       "      <td>0.134949</td>\n",
       "    </tr>\n",
       "    <tr>\n",
       "      <th>ACM FLEISCH</th>\n",
       "      <td>0.066861</td>\n",
       "    </tr>\n",
       "    <tr>\n",
       "      <th>ACM GEMUESE</th>\n",
       "      <td>0.057505</td>\n",
       "    </tr>\n",
       "    <tr>\n",
       "      <th>ACM OBST</th>\n",
       "      <td>0.056349</td>\n",
       "    </tr>\n",
       "    <tr>\n",
       "      <th>ACM MOLKEREIPRODUKTE</th>\n",
       "      <td>0.054094</td>\n",
       "    </tr>\n",
       "    <tr>\n",
       "      <th>ACM BACKWAREN</th>\n",
       "      <td>0.051304</td>\n",
       "    </tr>\n",
       "  </tbody>\n",
       "</table>\n",
       "</div>"
      ],
      "text/plain": [
       "                                    0\n",
       "purchasing_area_description          \n",
       "ACM FEINKOST                 0.405038\n",
       "ACM WURST                    0.198379\n",
       "ACM KAESE                    0.157191\n",
       "ACM FRISCHFISCH              0.134949\n",
       "ACM FLEISCH                  0.066861\n",
       "ACM GEMUESE                  0.057505\n",
       "ACM OBST                     0.056349\n",
       "ACM MOLKEREIPRODUKTE         0.054094\n",
       "ACM BACKWAREN                0.051304"
      ]
     },
     "execution_count": 59,
     "metadata": {},
     "output_type": "execute_result"
    }
   ],
   "source": [
    "sdf.groupby([\"purchasing_area_description\"],observed = True).agg({'shrinkage_in_euros': 'sum',  'sales_in_euros': 'sum'}).apply(lambda x: x['shrinkage_in_euros']/x['sales_in_euros'], axis=1).sort_values(ascending=False).to_frame()"
   ]
  },
  {
   "cell_type": "markdown",
   "metadata": {},
   "source": [
    "<center>Table 2. Shrinkage to sales ratio by purchasing area:  For 'ACM FEINKOST', the ratio of shrinkage to sales is roughly 0.4. Also 'ACM WURST','ACM KAESE', 'ACM FRISCHFISCH' shows bigger shrinkage to sales ratio than in other categories.</center>"
   ]
  },
  {
   "cell_type": "markdown",
   "metadata": {},
   "source": [
    "Let's take one purchasing area and have a deeper look, in this case 'ACM FEINKOST' as it has the highest shrinkage to sales ratio. We will look at `product_group_category_description`, which is subcategory of `purchasing_area_description`. \n"
   ]
  },
  {
   "cell_type": "code",
   "execution_count": 38,
   "metadata": {},
   "outputs": [
    {
     "data": {
      "text/html": [
       "<div>\n",
       "<style scoped>\n",
       "    .dataframe tbody tr th:only-of-type {\n",
       "        vertical-align: middle;\n",
       "    }\n",
       "\n",
       "    .dataframe tbody tr th {\n",
       "        vertical-align: top;\n",
       "    }\n",
       "\n",
       "    .dataframe thead th {\n",
       "        text-align: right;\n",
       "    }\n",
       "</style>\n",
       "<table border=\"1\" class=\"dataframe\">\n",
       "  <thead>\n",
       "    <tr style=\"text-align: right;\">\n",
       "      <th></th>\n",
       "      <th>0</th>\n",
       "    </tr>\n",
       "    <tr>\n",
       "      <th>product_group_category_description</th>\n",
       "      <th></th>\n",
       "    </tr>\n",
       "  </thead>\n",
       "  <tbody>\n",
       "    <tr>\n",
       "      <th>Beilagen</th>\n",
       "      <td>0.892456</td>\n",
       "    </tr>\n",
       "    <tr>\n",
       "      <th>Snacks/Pizza/Aufbackware</th>\n",
       "      <td>0.526149</td>\n",
       "    </tr>\n",
       "    <tr>\n",
       "      <th>Cremes, Dips, Aufstriche</th>\n",
       "      <td>0.386509</td>\n",
       "    </tr>\n",
       "    <tr>\n",
       "      <th>Eierprodukte</th>\n",
       "      <td>0.208266</td>\n",
       "    </tr>\n",
       "    <tr>\n",
       "      <th>Feinkostsalate</th>\n",
       "      <td>0.202455</td>\n",
       "    </tr>\n",
       "    <tr>\n",
       "      <th>Antipasti</th>\n",
       "      <td>0.115095</td>\n",
       "    </tr>\n",
       "  </tbody>\n",
       "</table>\n",
       "</div>"
      ],
      "text/plain": [
       "                                           0\n",
       "product_group_category_description          \n",
       "Beilagen                            0.892456\n",
       "Snacks/Pizza/Aufbackware            0.526149\n",
       "Cremes, Dips, Aufstriche            0.386509\n",
       "Eierprodukte                        0.208266\n",
       "Feinkostsalate                      0.202455\n",
       "Antipasti                           0.115095"
      ]
     },
     "execution_count": 38,
     "metadata": {},
     "output_type": "execute_result"
    }
   ],
   "source": [
    "multicol_sum = sdf.groupby([\"purchasing_area_description\",\"product_group_category_description\"], observed=True).agg({'shrinkage_in_euros': 'sum',  'sales_in_euros': 'sum'})\n",
    "multicol_sum.xs('ACM FEINKOST', level='purchasing_area_description').dropna().apply(lambda x: x['shrinkage_in_euros']/x['sales_in_euros'], axis=1).sort_values(ascending=False).to_frame()"
   ]
  },
  {
   "cell_type": "markdown",
   "metadata": {},
   "source": [
    "<center>Table 3. ACM FEINKOST - Shrinkage to sales ratio by product group categories: For products in 'Beilagen' and 'Snacks/Pizza/Aufbackware' shrinkage is more than half of the sales.</center>"
   ]
  },
  {
   "cell_type": "markdown",
   "metadata": {},
   "source": [
    "In this way, we can figure out what product categories are more problematic than others. This brings up another question: <b>Are there products that has bigger shrinkage than their sales?</b> "
   ]
  },
  {
   "cell_type": "code",
   "execution_count": 39,
   "metadata": {},
   "outputs": [
    {
     "data": {
      "text/html": [
       "<div>\n",
       "<style scoped>\n",
       "    .dataframe tbody tr th:only-of-type {\n",
       "        vertical-align: middle;\n",
       "    }\n",
       "\n",
       "    .dataframe tbody tr th {\n",
       "        vertical-align: top;\n",
       "    }\n",
       "\n",
       "    .dataframe thead th {\n",
       "        text-align: right;\n",
       "    }\n",
       "</style>\n",
       "<table border=\"1\" class=\"dataframe\">\n",
       "  <thead>\n",
       "    <tr style=\"text-align: right;\">\n",
       "      <th></th>\n",
       "      <th>shrinkage_in_euros</th>\n",
       "      <th>sales_in_euros</th>\n",
       "    </tr>\n",
       "    <tr>\n",
       "      <th>ART_NAME</th>\n",
       "      <th></th>\n",
       "      <th></th>\n",
       "    </tr>\n",
       "  </thead>\n",
       "  <tbody>\n",
       "    <tr>\n",
       "      <th>750g MC FORELLENFILET</th>\n",
       "      <td>61.4663</td>\n",
       "      <td>36.0</td>\n",
       "    </tr>\n",
       "    <tr>\n",
       "      <th>2,5kg MC MSC SAHNEHERINGSFILET</th>\n",
       "      <td>49.2344</td>\n",
       "      <td>0.0</td>\n",
       "    </tr>\n",
       "    <tr>\n",
       "      <th>1,5/1,25kg MC GABELROLLM</th>\n",
       "      <td>91.0890</td>\n",
       "      <td>0.0</td>\n",
       "    </tr>\n",
       "    <tr>\n",
       "      <th>2,5kg MC MSC BISMARCKHERING</th>\n",
       "      <td>43.8120</td>\n",
       "      <td>40.0</td>\n",
       "    </tr>\n",
       "    <tr>\n",
       "      <th>800g RIESENGAR OKMS 31/35</th>\n",
       "      <td>149.1063</td>\n",
       "      <td>13.0</td>\n",
       "    </tr>\n",
       "    <tr>\n",
       "      <th>...</th>\n",
       "      <td>...</td>\n",
       "      <td>...</td>\n",
       "    </tr>\n",
       "    <tr>\n",
       "      <th>500g GELBE BEETE</th>\n",
       "      <td>33.4800</td>\n",
       "      <td>8.0</td>\n",
       "    </tr>\n",
       "    <tr>\n",
       "      <th>5kg ROSENKOHL</th>\n",
       "      <td>10.9000</td>\n",
       "      <td>0.0</td>\n",
       "    </tr>\n",
       "    <tr>\n",
       "      <th>1,5kg AUSTERNPILZE</th>\n",
       "      <td>32.2000</td>\n",
       "      <td>0.0</td>\n",
       "    </tr>\n",
       "    <tr>\n",
       "      <th>500g TOPINAMBUR</th>\n",
       "      <td>17.7000</td>\n",
       "      <td>10.0</td>\n",
       "    </tr>\n",
       "    <tr>\n",
       "      <th>MC SALZKARTOFFELN 2kg</th>\n",
       "      <td>154.9416</td>\n",
       "      <td>72.0</td>\n",
       "    </tr>\n",
       "  </tbody>\n",
       "</table>\n",
       "<p>69 rows × 2 columns</p>\n",
       "</div>"
      ],
      "text/plain": [
       "                                shrinkage_in_euros  sales_in_euros\n",
       "ART_NAME                                                          \n",
       "750g MC FORELLENFILET                      61.4663            36.0\n",
       "2,5kg MC MSC SAHNEHERINGSFILET             49.2344             0.0\n",
       "1,5/1,25kg MC GABELROLLM                   91.0890             0.0\n",
       "2,5kg MC MSC BISMARCKHERING                43.8120            40.0\n",
       "800g RIESENGAR OKMS 31/35                 149.1063            13.0\n",
       "...                                            ...             ...\n",
       "500g GELBE BEETE                           33.4800             8.0\n",
       "5kg ROSENKOHL                              10.9000             0.0\n",
       "1,5kg AUSTERNPILZE                         32.2000             0.0\n",
       "500g TOPINAMBUR                            17.7000            10.0\n",
       "MC SALZKARTOFFELN 2kg                     154.9416            72.0\n",
       "\n",
       "[69 rows x 2 columns]"
      ]
     },
     "execution_count": 39,
     "metadata": {},
     "output_type": "execute_result"
    }
   ],
   "source": [
    "bigger_series = sdf.groupby([\"ART_NAME\"]).apply(\n",
    "    lambda x: x['shrinkage_in_euros'].sum() > x['sales_in_euros'].sum())\n",
    "bigger_shrinkage = sdf[sdf['ART_NAME'].isin(bigger_series[bigger_series].index)]\n",
    "bigger_shrinkage.groupby(\"ART_NAME\",observed=True).agg({\"shrinkage_in_euros\":\"sum\",\"sales_in_euros\":\"sum\"})"
   ]
  },
  {
   "cell_type": "markdown",
   "metadata": {},
   "source": [
    "<center>Table 4. 69 articles that has bigger shrinkage than sales</center>"
   ]
  },
  {
   "cell_type": "markdown",
   "metadata": {},
   "source": [
    "We can see there are <b>69 articles</b> that had bigger shrinkage than sales. \n",
    "Let's look at in which categories these products belong to."
   ]
  },
  {
   "cell_type": "code",
   "execution_count": 40,
   "metadata": {},
   "outputs": [
    {
     "data": {
      "text/html": [
       "<div>\n",
       "<style scoped>\n",
       "    .dataframe tbody tr th:only-of-type {\n",
       "        vertical-align: middle;\n",
       "    }\n",
       "\n",
       "    .dataframe tbody tr th {\n",
       "        vertical-align: top;\n",
       "    }\n",
       "\n",
       "    .dataframe thead tr th {\n",
       "        text-align: left;\n",
       "    }\n",
       "\n",
       "    .dataframe thead tr:last-of-type th {\n",
       "        text-align: right;\n",
       "    }\n",
       "</style>\n",
       "<table border=\"1\" class=\"dataframe\">\n",
       "  <thead>\n",
       "    <tr>\n",
       "      <th></th>\n",
       "      <th colspan=\"2\" halign=\"left\">shrinkage_in_euros</th>\n",
       "      <th colspan=\"2\" halign=\"left\">sales_in_euros</th>\n",
       "    </tr>\n",
       "    <tr>\n",
       "      <th></th>\n",
       "      <th>sum</th>\n",
       "      <th>count</th>\n",
       "      <th>sum</th>\n",
       "      <th>count</th>\n",
       "    </tr>\n",
       "    <tr>\n",
       "      <th>purchasing_area_description</th>\n",
       "      <th></th>\n",
       "      <th></th>\n",
       "      <th></th>\n",
       "      <th></th>\n",
       "    </tr>\n",
       "  </thead>\n",
       "  <tbody>\n",
       "    <tr>\n",
       "      <th>ACM FEINKOST</th>\n",
       "      <td>1737.2390</td>\n",
       "      <td>10</td>\n",
       "      <td>606.0</td>\n",
       "      <td>10</td>\n",
       "    </tr>\n",
       "    <tr>\n",
       "      <th>ACM FLEISCH</th>\n",
       "      <td>265.8378</td>\n",
       "      <td>3</td>\n",
       "      <td>181.0</td>\n",
       "      <td>3</td>\n",
       "    </tr>\n",
       "    <tr>\n",
       "      <th>ACM FRISCHFISCH</th>\n",
       "      <td>394.7080</td>\n",
       "      <td>5</td>\n",
       "      <td>89.0</td>\n",
       "      <td>5</td>\n",
       "    </tr>\n",
       "    <tr>\n",
       "      <th>ACM GEMUESE</th>\n",
       "      <td>310.5130</td>\n",
       "      <td>8</td>\n",
       "      <td>104.0</td>\n",
       "      <td>8</td>\n",
       "    </tr>\n",
       "    <tr>\n",
       "      <th>ACM KAESE</th>\n",
       "      <td>1125.9558</td>\n",
       "      <td>13</td>\n",
       "      <td>701.0</td>\n",
       "      <td>13</td>\n",
       "    </tr>\n",
       "    <tr>\n",
       "      <th>ACM MOLKEREIPRODUKTE</th>\n",
       "      <td>803.8381</td>\n",
       "      <td>13</td>\n",
       "      <td>248.0</td>\n",
       "      <td>13</td>\n",
       "    </tr>\n",
       "    <tr>\n",
       "      <th>ACM OBST</th>\n",
       "      <td>183.0000</td>\n",
       "      <td>2</td>\n",
       "      <td>112.0</td>\n",
       "      <td>2</td>\n",
       "    </tr>\n",
       "    <tr>\n",
       "      <th>ACM WURST</th>\n",
       "      <td>1351.3254</td>\n",
       "      <td>15</td>\n",
       "      <td>597.0</td>\n",
       "      <td>15</td>\n",
       "    </tr>\n",
       "  </tbody>\n",
       "</table>\n",
       "</div>"
      ],
      "text/plain": [
       "                            shrinkage_in_euros       sales_in_euros      \n",
       "                                           sum count            sum count\n",
       "purchasing_area_description                                              \n",
       "ACM FEINKOST                         1737.2390    10          606.0    10\n",
       "ACM FLEISCH                           265.8378     3          181.0     3\n",
       "ACM FRISCHFISCH                       394.7080     5           89.0     5\n",
       "ACM GEMUESE                           310.5130     8          104.0     8\n",
       "ACM KAESE                            1125.9558    13          701.0    13\n",
       "ACM MOLKEREIPRODUKTE                  803.8381    13          248.0    13\n",
       "ACM OBST                              183.0000     2          112.0     2\n",
       "ACM WURST                            1351.3254    15          597.0    15"
      ]
     },
     "execution_count": 40,
     "metadata": {},
     "output_type": "execute_result"
    }
   ],
   "source": [
    "b = bigger_shrinkage.groupby([\"purchasing_area_description\",\"ART_NAME\"]).agg({'shrinkage_in_euros': 'sum',  'sales_in_euros': 'sum'}).dropna().reset_index()\n",
    "b.groupby(\"purchasing_area_description\", observed=True).agg([\"sum\", \"count\"])"
   ]
  },
  {
   "cell_type": "markdown",
   "metadata": {},
   "source": [
    "<center>Table 5. Articles that has bigger shrinkage than sales: split into purchasing area</center>"
   ]
  },
  {
   "cell_type": "code",
   "execution_count": 61,
   "metadata": {},
   "outputs": [
    {
     "data": {
      "text/plain": [
       "<matplotlib.legend.Legend at 0x12e54e550>"
      ]
     },
     "execution_count": 61,
     "metadata": {},
     "output_type": "execute_result"
    },
    {
     "data": {
      "image/png": "[encoded data removed]",
      "text/plain": [
       "<Figure size 864x360 with 2 Axes>"
      ]
     },
     "metadata": {},
     "output_type": "display_data"
    }
   ],
   "source": [
    "fig, (ax1, ax2) = plt.subplots(1,2,figsize=(12,5))\n",
    "\n",
    "b.groupby(\"purchasing_area_description\",observed=True).agg([\"sum\"]).plot(kind='bar', title=\"Sum: shrinkage > sales\", color = ['cyan','blue'], edgecolor = 'darkblue', ax=ax1)\n",
    "ax1.legend([\"Sum of Shrinkage in Euro\", \"Sum of Sales in Euro\"])\n",
    "b.groupby(\"purchasing_area_description\",observed=True).agg({\"ART_NAME\":\"count\"}).plot(kind='bar', title=\"Distribution: shrinkage > sales\", color = 'yellow', edgecolor = 'darkblue', ax=ax2)\n",
    "ax2.legend([\"Count of the articles\"])"
   ]
  },
  {
   "cell_type": "markdown",
   "metadata": {},
   "source": [
    "<center>Figure 5.Articles that had bigger shrinkage than sales in January 2020: Sum and distribution of shrinkage and sales split into purchasing area.</center>\n"
   ]
  },
  {
   "cell_type": "markdown",
   "metadata": {},
   "source": [
    "According to figure 5, the biggest number of articles that had bigger shrinkage than sales were in 'ACM WURST'."
   ]
  },
  {
   "cell_type": "code",
   "execution_count": 42,
   "metadata": {},
   "outputs": [
    {
     "data": {
      "text/html": [
       "<div>\n",
       "<style scoped>\n",
       "    .dataframe tbody tr th:only-of-type {\n",
       "        vertical-align: middle;\n",
       "    }\n",
       "\n",
       "    .dataframe tbody tr th {\n",
       "        vertical-align: top;\n",
       "    }\n",
       "\n",
       "    .dataframe thead th {\n",
       "        text-align: right;\n",
       "    }\n",
       "</style>\n",
       "<table border=\"1\" class=\"dataframe\">\n",
       "  <thead>\n",
       "    <tr style=\"text-align: right;\">\n",
       "      <th></th>\n",
       "      <th>0</th>\n",
       "    </tr>\n",
       "    <tr>\n",
       "      <th>purchasing_area_description</th>\n",
       "      <th></th>\n",
       "    </tr>\n",
       "  </thead>\n",
       "  <tbody>\n",
       "    <tr>\n",
       "      <th>ACM FEINKOST</th>\n",
       "      <td>2.866731</td>\n",
       "    </tr>\n",
       "    <tr>\n",
       "      <th>ACM FLEISCH</th>\n",
       "      <td>1.468717</td>\n",
       "    </tr>\n",
       "    <tr>\n",
       "      <th>ACM FRISCHFISCH</th>\n",
       "      <td>4.434921</td>\n",
       "    </tr>\n",
       "    <tr>\n",
       "      <th>ACM GEMUESE</th>\n",
       "      <td>2.985702</td>\n",
       "    </tr>\n",
       "    <tr>\n",
       "      <th>ACM KAESE</th>\n",
       "      <td>1.606214</td>\n",
       "    </tr>\n",
       "    <tr>\n",
       "      <th>ACM MOLKEREIPRODUKTE</th>\n",
       "      <td>3.241283</td>\n",
       "    </tr>\n",
       "    <tr>\n",
       "      <th>ACM OBST</th>\n",
       "      <td>1.633929</td>\n",
       "    </tr>\n",
       "    <tr>\n",
       "      <th>ACM WURST</th>\n",
       "      <td>2.263527</td>\n",
       "    </tr>\n",
       "  </tbody>\n",
       "</table>\n",
       "</div>"
      ],
      "text/plain": [
       "                                    0\n",
       "purchasing_area_description          \n",
       "ACM FEINKOST                 2.866731\n",
       "ACM FLEISCH                  1.468717\n",
       "ACM FRISCHFISCH              4.434921\n",
       "ACM GEMUESE                  2.985702\n",
       "ACM KAESE                    1.606214\n",
       "ACM MOLKEREIPRODUKTE         3.241283\n",
       "ACM OBST                     1.633929\n",
       "ACM WURST                    2.263527"
      ]
     },
     "execution_count": 42,
     "metadata": {},
     "output_type": "execute_result"
    }
   ],
   "source": [
    "b.groupby(\"purchasing_area_description\", observed=True).agg('sum').apply(lambda x: x['shrinkage_in_euros']/x['sales_in_euros'], axis=1).to_frame()"
   ]
  },
  {
   "cell_type": "markdown",
   "metadata": {},
   "source": [
    "<center>Table 6. Shrinkage/Sales of articles that had bigger shrinkage than sales in January 2020 by purchasing area</center>"
   ]
  },
  {
   "cell_type": "markdown",
   "metadata": {},
   "source": [
    "We can see that the articles which had bigger shrinkage than sales in ACM FRISCHFISCH had more than 4 times of shrinkage than sales, ACM MOLKEREIPRODUKTE following up with 3.2.  "
   ]
  },
  {
   "cell_type": "markdown",
   "metadata": {},
   "source": [
    "### Shrinkage by days of week"
   ]
  },
  {
   "cell_type": "markdown",
   "metadata": {},
   "source": [
    "Let's have a look on how shrinkage looks like on different days of the week."
   ]
  },
  {
   "cell_type": "code",
   "execution_count": 43,
   "metadata": {
    "scrolled": true
   },
   "outputs": [
    {
     "data": {
      "text/html": [
       "<div>\n",
       "<style scoped>\n",
       "    .dataframe tbody tr th:only-of-type {\n",
       "        vertical-align: middle;\n",
       "    }\n",
       "\n",
       "    .dataframe tbody tr th {\n",
       "        vertical-align: top;\n",
       "    }\n",
       "\n",
       "    .dataframe thead th {\n",
       "        text-align: right;\n",
       "    }\n",
       "</style>\n",
       "<table border=\"1\" class=\"dataframe\">\n",
       "  <thead>\n",
       "    <tr style=\"text-align: right;\">\n",
       "      <th></th>\n",
       "      <th>shrinkage_in_euros</th>\n",
       "    </tr>\n",
       "    <tr>\n",
       "      <th>weekday</th>\n",
       "      <th></th>\n",
       "    </tr>\n",
       "  </thead>\n",
       "  <tbody>\n",
       "    <tr>\n",
       "      <th>Friday</th>\n",
       "      <td>9617.0413</td>\n",
       "    </tr>\n",
       "    <tr>\n",
       "      <th>Tuesday</th>\n",
       "      <td>4091.1159</td>\n",
       "    </tr>\n",
       "    <tr>\n",
       "      <th>Thursday</th>\n",
       "      <td>3477.4796</td>\n",
       "    </tr>\n",
       "    <tr>\n",
       "      <th>Monday</th>\n",
       "      <td>2863.1071</td>\n",
       "    </tr>\n",
       "    <tr>\n",
       "      <th>Wednesday</th>\n",
       "      <td>2819.0344</td>\n",
       "    </tr>\n",
       "  </tbody>\n",
       "</table>\n",
       "</div>"
      ],
      "text/plain": [
       "           shrinkage_in_euros\n",
       "weekday                      \n",
       "Friday              9617.0413\n",
       "Tuesday             4091.1159\n",
       "Thursday            3477.4796\n",
       "Monday              2863.1071\n",
       "Wednesday           2819.0344"
      ]
     },
     "execution_count": 43,
     "metadata": {},
     "output_type": "execute_result"
    }
   ],
   "source": [
    "sdf.groupby(\"weekday\", observed=True).agg({\"shrinkage_in_euros\":\"sum\"}).sort_values(by=\"shrinkage_in_euros\",ascending=False)"
   ]
  },
  {
   "cell_type": "markdown",
   "metadata": {},
   "source": [
    "<center>Table 7. Shrinkage by day of week: On fridays get the most products wasted</center>"
   ]
  },
  {
   "cell_type": "markdown",
   "metadata": {},
   "source": [
    "Let's break it into different purchasing area categories.\n"
   ]
  },
  {
   "cell_type": "code",
   "execution_count": 44,
   "metadata": {},
   "outputs": [
    {
     "data": {
      "image/png": "[encoded data removed]",
      "text/plain": [
       "<Figure size 864x288 with 2 Axes>"
      ]
     },
     "metadata": {},
     "output_type": "display_data"
    },
    {
     "data": {
      "image/png": "[encoded data removed]",
      "text/plain": [
       "<Figure size 864x288 with 2 Axes>"
      ]
     },
     "metadata": {},
     "output_type": "display_data"
    },
    {
     "data": {
      "image/png": "[encoded data removed]",
      "text/plain": [
       "<Figure size 864x288 with 2 Axes>"
      ]
     },
     "metadata": {},
     "output_type": "display_data"
    },
    {
     "data": {
      "image/png": "[encoded data removed]",
      "text/plain": [
       "<Figure size 864x288 with 2 Axes>"
      ]
     },
     "metadata": {},
     "output_type": "display_data"
    }
   ],
   "source": [
    "def weekday_mapping(category, ax):\n",
    "    c = category.groupby([\"weekday\"],observed=True).sum().shrinkage_in_euros.reset_index()\n",
    "    weekdays = ['Monday', 'Tuesday', 'Wednesday', 'Thursday', 'Friday']\n",
    "    mapping = {weekday: i for i, weekday in enumerate(weekdays)}\n",
    "    key = c[\"weekday\"].map(mapping)\n",
    "    c= c.iloc[key.argsort()]\n",
    "    c.plot(kind=\"bar\", y='shrinkage_in_euros', x=\"weekday\", color = 'cyan', edgecolor = 'darkblue', ax=ax)\n",
    "    ax.legend([\"Sum of Shrinkage in Euro in \" + category.iloc[0,0]])\n",
    "    ax.set_title(category.iloc[0,0])\n",
    "    ax.set_xlabel('')\n",
    "\n",
    "feinkost = sdf[sdf[\"purchasing_area_description\"] == 'ACM FEINKOST']\n",
    "fleisch = sdf[sdf[\"purchasing_area_description\"] == 'ACM FLEISCH']\n",
    "frischfisch = sdf[sdf[\"purchasing_area_description\"] == 'ACM FRISCHFISCH']\n",
    "gemuese = sdf[sdf[\"purchasing_area_description\"] == 'ACM GEMUESE']\n",
    "kaese = sdf[sdf[\"purchasing_area_description\"] == 'ACM KAESE']\n",
    "molkereiprodukte = sdf[sdf[\"purchasing_area_description\"] == 'ACM MOLKEREIPRODUKTE']\n",
    "obst = sdf[sdf[\"purchasing_area_description\"] == 'ACM OBST']\n",
    "wurst = sdf[sdf[\"purchasing_area_description\"] == 'ACM WURST']\n",
    "\n",
    "categories = [feinkost,fleisch,frischfisch, gemuese, kaese, \n",
    "              molkereiprodukte,obst,wurst]\n",
    "\n",
    "fig, (ax1,ax2) = plt.subplots(1,2, figsize=(12,4))\n",
    "weekday_mapping(feinkost, ax1)\n",
    "weekday_mapping(fleisch, ax2)\n",
    "fig, (ax3,ax4) = plt.subplots(1,2, figsize=(12,4))\n",
    "weekday_mapping(frischfisch, ax3)\n",
    "weekday_mapping(gemuese, ax4)\n",
    "fig, (ax5,ax6) = plt.subplots(1,2, figsize=(12,4))\n",
    "weekday_mapping(kaese, ax5)\n",
    "weekday_mapping(molkereiprodukte, ax6)\n",
    "fig, (ax7,ax8) = plt.subplots(1,2, figsize=(12,4))\n",
    "weekday_mapping(obst, ax7)\n",
    "weekday_mapping(wurst, ax8)\n"
   ]
  },
  {
   "cell_type": "markdown",
   "metadata": {},
   "source": [
    "<center>Figure 6. Sum of shrinkage per day of week in January 2020 split into purchasing area: Fridays had biggest shrinkage in all of the purchasing area except 'ACM GEMUESE', which shows Monday as the highest shrinkage producing day.</center> "
   ]
  },
  {
   "cell_type": "markdown",
   "metadata": {},
   "source": [
    "### Frequency of shrinkage"
   ]
  },
  {
   "cell_type": "markdown",
   "metadata": {},
   "source": [
    "\n",
    "Let's look at how frequent the shrinkage had occurred per article in January. Which products got wasted more often than others ? "
   ]
  },
  {
   "cell_type": "code",
   "execution_count": 45,
   "metadata": {},
   "outputs": [
    {
     "data": {
      "text/plain": [
       "count    588.000000\n",
       "mean       1.845238\n",
       "std        1.043285\n",
       "min        1.000000\n",
       "25%        1.000000\n",
       "50%        2.000000\n",
       "75%        2.000000\n",
       "90%        3.000000\n",
       "max        6.000000\n",
       "Name: shrinkage_counts, dtype: float64"
      ]
     },
     "execution_count": 45,
     "metadata": {},
     "output_type": "execute_result"
    }
   ],
   "source": [
    "#shrinkage_rows = rows that have shrinkage\n",
    "shrinkage_rows = sdf.loc[sdf['shrinkage_in_euros'] > 0]\n",
    "shrinkage_rows[\"shrinkage_counts\"].describe(percentiles=[.25, .5, .75, .9])"
   ]
  },
  {
   "cell_type": "markdown",
   "metadata": {},
   "source": [
    "Shrinkage occured approximately 1.85 times per article in average in January. The max value was 6 and lowest 75% of articles had 2. Let's have a look on articles with higher frequency of shrinkage."
   ]
  },
  {
   "cell_type": "code",
   "execution_count": 46,
   "metadata": {},
   "outputs": [
    {
     "data": {
      "text/html": [
       "<div>\n",
       "<style scoped>\n",
       "    .dataframe tbody tr th:only-of-type {\n",
       "        vertical-align: middle;\n",
       "    }\n",
       "\n",
       "    .dataframe tbody tr th {\n",
       "        vertical-align: top;\n",
       "    }\n",
       "\n",
       "    .dataframe thead th {\n",
       "        text-align: right;\n",
       "    }\n",
       "</style>\n",
       "<table border=\"1\" class=\"dataframe\">\n",
       "  <thead>\n",
       "    <tr style=\"text-align: right;\">\n",
       "      <th></th>\n",
       "      <th></th>\n",
       "      <th></th>\n",
       "      <th>shrinkage_counts</th>\n",
       "    </tr>\n",
       "    <tr>\n",
       "      <th>freshness</th>\n",
       "      <th>purchasing_area_description</th>\n",
       "      <th>ART_NAME</th>\n",
       "      <th></th>\n",
       "    </tr>\n",
       "  </thead>\n",
       "  <tbody>\n",
       "    <tr>\n",
       "      <th rowspan=\"23\" valign=\"top\">fresh</th>\n",
       "      <th>ACM BACKWAREN</th>\n",
       "      <th>500g GAB BUTTERTOAST</th>\n",
       "      <td>4</td>\n",
       "    </tr>\n",
       "    <tr>\n",
       "      <th rowspan=\"10\" valign=\"top\">ACM MOLKEREIPRODUKTE</th>\n",
       "      <th>ARO 1l FRISCHMILCH 1,5% (2)</th>\n",
       "      <td>3</td>\n",
       "    </tr>\n",
       "    <tr>\n",
       "      <th>500g ARO JOGHURT 1,5%</th>\n",
       "      <td>3</td>\n",
       "    </tr>\n",
       "    <tr>\n",
       "      <th>1kg Weideg. Frujoghurt 3,5%</th>\n",
       "      <td>3</td>\n",
       "    </tr>\n",
       "    <tr>\n",
       "      <th>5kg FRUCHTJOGHURT 3,5% MILRAM</th>\n",
       "      <td>5</td>\n",
       "    </tr>\n",
       "    <tr>\n",
       "      <th>100X10g FEINE BUTTER ALU PORT</th>\n",
       "      <td>4</td>\n",
       "    </tr>\n",
       "    <tr>\n",
       "      <th>10er Eier weiss/braun L-M Bode</th>\n",
       "      <td>3</td>\n",
       "    </tr>\n",
       "    <tr>\n",
       "      <th>30er Eier w/b M Freiland</th>\n",
       "      <td>3</td>\n",
       "    </tr>\n",
       "    <tr>\n",
       "      <th>10er Eier w/b L-M Freiland</th>\n",
       "      <td>3</td>\n",
       "    </tr>\n",
       "    <tr>\n",
       "      <th>8x100g Actimel Drink</th>\n",
       "      <td>3</td>\n",
       "    </tr>\n",
       "    <tr>\n",
       "      <th>250g And.Bio Lassi Jog.Drink</th>\n",
       "      <td>2</td>\n",
       "    </tr>\n",
       "    <tr>\n",
       "      <th rowspan=\"3\" valign=\"top\">ACM KAESE</th>\n",
       "      <th>1kg CAST. FRISCHK.</th>\n",
       "      <td>3</td>\n",
       "    </tr>\n",
       "    <tr>\n",
       "      <th>150g BAVARIA BLU MINITORTE 70%</th>\n",
       "      <td>3</td>\n",
       "    </tr>\n",
       "    <tr>\n",
       "      <th>200g ZIEGENROLLE ST MAURE PRES</th>\n",
       "      <td>4</td>\n",
       "    </tr>\n",
       "    <tr>\n",
       "      <th rowspan=\"6\" valign=\"top\">ACM FEINKOST</th>\n",
       "      <th>FARMLAND KRAEUTERBAGUETTE 175G</th>\n",
       "      <td>3</td>\n",
       "    </tr>\n",
       "    <tr>\n",
       "      <th>1kg GEMUESEMAULTASCHEN</th>\n",
       "      <td>3</td>\n",
       "    </tr>\n",
       "    <tr>\n",
       "      <th>5kg MC FRISCHER KRAUTSALAT</th>\n",
       "      <td>3</td>\n",
       "    </tr>\n",
       "    <tr>\n",
       "      <th>5kg ARO PELLKARTOFFELSALAT EI/</th>\n",
       "      <td>3</td>\n",
       "    </tr>\n",
       "    <tr>\n",
       "      <th>2kg ARO TZATZIKI</th>\n",
       "      <td>3</td>\n",
       "    </tr>\n",
       "    <tr>\n",
       "      <th>5kg SOURCREAM MAERKER</th>\n",
       "      <td>3</td>\n",
       "    </tr>\n",
       "    <tr>\n",
       "      <th rowspan=\"3\" valign=\"top\">ACM WURST</th>\n",
       "      <th>500g BRUEHW. AUFSCHNITT 4-FACH</th>\n",
       "      <td>3</td>\n",
       "    </tr>\n",
       "    <tr>\n",
       "      <th>500g HS SALAMI IA KAESERAND</th>\n",
       "      <td>3</td>\n",
       "    </tr>\n",
       "    <tr>\n",
       "      <th>200g HK HAEHNCHENBRUST KRAEUT.</th>\n",
       "      <td>3</td>\n",
       "    </tr>\n",
       "    <tr>\n",
       "      <th rowspan=\"11\" valign=\"top\">ultrafresh</th>\n",
       "      <th>ACM FRISCHFISCH</th>\n",
       "      <th>500g ARO RAEUCHERLACHS (2)</th>\n",
       "      <td>3</td>\n",
       "    </tr>\n",
       "    <tr>\n",
       "      <th rowspan=\"7\" valign=\"top\">ACM FLEISCH</th>\n",
       "      <th>QS SW-NACKEN O.KN. VAC.PAZ</th>\n",
       "      <td>4</td>\n",
       "    </tr>\n",
       "    <tr>\n",
       "      <th>RINDERHACKFLEISCH CA.1500g</th>\n",
       "      <td>3</td>\n",
       "    </tr>\n",
       "    <tr>\n",
       "      <th>RINDERHACKFLEISCH CA.2500g</th>\n",
       "      <td>3</td>\n",
       "    </tr>\n",
       "    <tr>\n",
       "      <th>HACKFLEISCH GEM. CA. 2500g</th>\n",
       "      <td>3</td>\n",
       "    </tr>\n",
       "    <tr>\n",
       "      <th>QS HAE.OBERKEULE O.H.O.K.2,5kg</th>\n",
       "      <td>3</td>\n",
       "    </tr>\n",
       "    <tr>\n",
       "      <th>QS HAEHN.-SCHENKEL25%Rück. 3kg</th>\n",
       "      <td>5</td>\n",
       "    </tr>\n",
       "    <tr>\n",
       "      <th>QS HAEHN.-UNTERSCH. CA.2,5kg</th>\n",
       "      <td>6</td>\n",
       "    </tr>\n",
       "    <tr>\n",
       "      <th rowspan=\"3\" valign=\"top\">ACM GEMUESE</th>\n",
       "      <th>9er SALAT MIX</th>\n",
       "      <td>3</td>\n",
       "    </tr>\n",
       "    <tr>\n",
       "      <th>2,5kg PARISER SALATMISCHUNG 20</th>\n",
       "      <td>4</td>\n",
       "    </tr>\n",
       "    <tr>\n",
       "      <th>1kg SALATMISCHUNG EXQUISIT</th>\n",
       "      <td>5</td>\n",
       "    </tr>\n",
       "  </tbody>\n",
       "</table>\n",
       "</div>"
      ],
      "text/plain": [
       "                                                                       shrinkage_counts\n",
       "freshness  purchasing_area_description ART_NAME                                        \n",
       "fresh      ACM BACKWAREN               500g GAB BUTTERTOAST                           4\n",
       "           ACM MOLKEREIPRODUKTE        ARO 1l FRISCHMILCH 1,5% (2)                    3\n",
       "                                       500g ARO JOGHURT 1,5%                          3\n",
       "                                       1kg Weideg. Frujoghurt 3,5%                    3\n",
       "                                       5kg FRUCHTJOGHURT 3,5% MILRAM                  5\n",
       "                                       100X10g FEINE BUTTER ALU PORT                  4\n",
       "                                       10er Eier weiss/braun L-M Bode                 3\n",
       "                                       30er Eier w/b M Freiland                       3\n",
       "                                       10er Eier w/b L-M Freiland                     3\n",
       "                                       8x100g Actimel Drink                           3\n",
       "                                       250g And.Bio Lassi Jog.Drink                   2\n",
       "           ACM KAESE                   1kg CAST. FRISCHK.                             3\n",
       "                                       150g BAVARIA BLU MINITORTE 70%                 3\n",
       "                                       200g ZIEGENROLLE ST MAURE PRES                 4\n",
       "           ACM FEINKOST                FARMLAND KRAEUTERBAGUETTE 175G                 3\n",
       "                                       1kg GEMUESEMAULTASCHEN                         3\n",
       "                                       5kg MC FRISCHER KRAUTSALAT                     3\n",
       "                                       5kg ARO PELLKARTOFFELSALAT EI/                 3\n",
       "                                       2kg ARO TZATZIKI                               3\n",
       "                                       5kg SOURCREAM MAERKER                          3\n",
       "           ACM WURST                   500g BRUEHW. AUFSCHNITT 4-FACH                 3\n",
       "                                       500g HS SALAMI IA KAESERAND                    3\n",
       "                                       200g HK HAEHNCHENBRUST KRAEUT.                 3\n",
       "ultrafresh ACM FRISCHFISCH             500g ARO RAEUCHERLACHS (2)                     3\n",
       "           ACM FLEISCH                 QS SW-NACKEN O.KN. VAC.PAZ                     4\n",
       "                                       RINDERHACKFLEISCH CA.1500g                     3\n",
       "                                       RINDERHACKFLEISCH CA.2500g                     3\n",
       "                                       HACKFLEISCH GEM. CA. 2500g                     3\n",
       "                                       QS HAE.OBERKEULE O.H.O.K.2,5kg                 3\n",
       "                                       QS HAEHN.-SCHENKEL25%Rück. 3kg                 5\n",
       "                                       QS HAEHN.-UNTERSCH. CA.2,5kg                   6\n",
       "           ACM GEMUESE                 9er SALAT MIX                                  3\n",
       "                                       2,5kg PARISER SALATMISCHUNG 20                 4\n",
       "                                       1kg SALATMISCHUNG EXQUISIT                     5"
      ]
     },
     "execution_count": 46,
     "metadata": {},
     "output_type": "execute_result"
    }
   ],
   "source": [
    "count_gdf = shrinkage_rows.groupby(\"ART_NAME\").filter(lambda x: (x.name != 0 ) and (x.ART_NAME.size > 2 )).groupby([\"freshness\",\"purchasing_area_description\",\"ART_NAME\"],observed=True).agg({\"shrinkage_counts\":\"mean\"})\n",
    "count_gdf"
   ]
  },
  {
   "cell_type": "markdown",
   "metadata": {},
   "source": [
    "<center>Table 8. Articles that had shrinkage more than 2 times in January</center>"
   ]
  },
  {
   "cell_type": "code",
   "execution_count": 47,
   "metadata": {},
   "outputs": [
    {
     "data": {
      "text/plain": [
       "<seaborn.axisgrid.FacetGrid at 0x12dc92610>"
      ]
     },
     "execution_count": 47,
     "metadata": {},
     "output_type": "execute_result"
    },
    {
     "data": {
      "image/png": "[encoded data removed]",
      "text/plain": [
       "<Figure size 703.125x288 with 2 Axes>"
      ]
     },
     "metadata": {},
     "output_type": "display_data"
    }
   ],
   "source": [
    "sns.set(style=\"darkgrid\")\n",
    "g = sns.catplot(kind=\"count\",hue=\"purchasing_area_description\", y=\"shrinkage_counts\", col=\"freshness\",data=shrinkage_rows, height=4, aspect=0.9)\n",
    "g.set_axis_labels(\"\", \"Frequency of Shrinkage\")"
   ]
  },
  {
   "cell_type": "markdown",
   "metadata": {},
   "source": [
    "<center>Figure 7. Frequency of shrinkage by purchasing area and freshness. You can see that there are more ultrafresh products like ACM FLEISCH, ACM GEMUESE than fresh products that had more than 5 times of shrinkage occurance in January. </center>"
   ]
  },
  {
   "cell_type": "markdown",
   "metadata": {},
   "source": [
    "## Correlation "
   ]
  },
  {
   "cell_type": "markdown",
   "metadata": {},
   "source": [
    "This leads us to question if there is any correlation between frequency of shrinkage , shrinkage, and sales. "
   ]
  },
  {
   "cell_type": "code",
   "execution_count": 48,
   "metadata": {},
   "outputs": [
    {
     "data": {
      "text/html": [
       "<div>\n",
       "<style scoped>\n",
       "    .dataframe tbody tr th:only-of-type {\n",
       "        vertical-align: middle;\n",
       "    }\n",
       "\n",
       "    .dataframe tbody tr th {\n",
       "        vertical-align: top;\n",
       "    }\n",
       "\n",
       "    .dataframe thead th {\n",
       "        text-align: right;\n",
       "    }\n",
       "</style>\n",
       "<table border=\"1\" class=\"dataframe\">\n",
       "  <thead>\n",
       "    <tr style=\"text-align: right;\">\n",
       "      <th></th>\n",
       "      <th>sales_in_euros</th>\n",
       "      <th>shrinkage_in_euros</th>\n",
       "      <th>shrinkage_counts</th>\n",
       "    </tr>\n",
       "  </thead>\n",
       "  <tbody>\n",
       "    <tr>\n",
       "      <th>sales_in_euros</th>\n",
       "      <td>1.000000</td>\n",
       "      <td>0.128731</td>\n",
       "      <td>0.030263</td>\n",
       "    </tr>\n",
       "    <tr>\n",
       "      <th>shrinkage_in_euros</th>\n",
       "      <td>0.128731</td>\n",
       "      <td>1.000000</td>\n",
       "      <td>0.222382</td>\n",
       "    </tr>\n",
       "    <tr>\n",
       "      <th>shrinkage_counts</th>\n",
       "      <td>0.030263</td>\n",
       "      <td>0.222382</td>\n",
       "      <td>1.000000</td>\n",
       "    </tr>\n",
       "  </tbody>\n",
       "</table>\n",
       "</div>"
      ],
      "text/plain": [
       "                    sales_in_euros  shrinkage_in_euros  shrinkage_counts\n",
       "sales_in_euros            1.000000            0.128731          0.030263\n",
       "shrinkage_in_euros        0.128731            1.000000          0.222382\n",
       "shrinkage_counts          0.030263            0.222382          1.000000"
      ]
     },
     "execution_count": 48,
     "metadata": {},
     "output_type": "execute_result"
    }
   ],
   "source": [
    "#find correlation of monthly sales sum of each product and frequency of shrinkage in January\n",
    "group = sdf.groupby([\"ART_NO\",\"freshness\"],observed=True).agg({\"sales_in_euros\":\"sum\", \"shrinkage_in_euros\":\"sum\",\"shrinkage_counts\":\"mean\"}).reset_index()\n",
    "group.corr()"
   ]
  },
  {
   "cell_type": "markdown",
   "metadata": {},
   "source": [
    "<center>Table 9. Pairwise correlation between monthly sales, shrinkage, and shrinkage frequency of each article: Cannot find any particular strong correlation between the pairs.</center>"
   ]
  },
  {
   "cell_type": "code",
   "execution_count": 62,
   "metadata": {},
   "outputs": [
    {
     "data": {
      "text/plain": [
       "<seaborn.axisgrid.PairGrid at 0x12e618ad0>"
      ]
     },
     "execution_count": 62,
     "metadata": {},
     "output_type": "execute_result"
    },
    {
     "data": {
      "image/png": "[encoded data removed]",
      "text/plain": [
       "<Figure size 661.725x576 with 4 Axes>"
      ]
     },
     "metadata": {},
     "output_type": "display_data"
    }
   ],
   "source": [
    "sns.pairplot(x_vars=[\"sales_in_euros\", \"shrinkage_counts\"],y_vars=[\"shrinkage_in_euros\", \"shrinkage_counts\"],data=group,hue=\"freshness\", kind=\"reg\", height=4)"
   ]
  },
  {
   "cell_type": "markdown",
   "metadata": {},
   "source": [
    "<center>Figure 8. Scatterplots for shrinkage and sales, shrinkage and frequency of shrinkage, frequency of shrinkage and sales. We can see there are no linear correlation between these pairs.</center>"
   ]
  },
  {
   "cell_type": "markdown",
   "metadata": {},
   "source": [
    "# Discussions"
   ]
  },
  {
   "cell_type": "markdown",
   "metadata": {},
   "source": [
    "### Summary of the results\n",
    "We have looked at the data of 408 articles that had shrinkage in January 2020. Total shrinkage of these products was same as approximately 10% of the sales of these products. We've split them into different level of product categories such as freshness criteria, purchasing area. Fresh products such as ACM WURST and ACM MOLKEREIPRODUKTE, ACM KAESE had more shrinkage in total than ultrafresh products such as ACM FLEISCH and ACM FRISCHFISCH. Although average shrinkage was the highest in ACM FRISCHFISCH. \n",
    "\n",
    "When compared to sales, ACM FEINKOST showed biggest shrinkage to sales ratio of roughly 40%. We figured out there were 69 products that had bigger shrinkage than the sales. Big part of these products were in fresh products such as ACM FEINKOST and ACM WURST. Among these, products from ACM FRISCHFISCH had 4.4 times bigger shrinkage than sales. \n",
    "\n",
    "When observed by day of the week, fridays had biggest shrinkage in total. The frequency of shrinkage was 1.85 days out of 22 days in January per article in average. We found that ultrafresh product categories such as ACM FLEISCH and ACM GEMUESE had the highest shrinkage frequency as expected in prior to the analysis. \n",
    "\n",
    "### Limitations and conclusion\n",
    "Despite these findings, we could not find any meaningful correlation between shrinkage and sales, shrinkage frequency and sales, shrinkage frequency and shrinkage from this dataset. Although I have to say this partially results from the ambiguous nature of shrinkage that it consists of not only the waste from products that weren't sold, but also reduction in inventory due to unknown amount of shoplifting, employee theft, accounting errors and supplier fraud. If we had more detailed information on which source the shrinkage is explicitly from, as well as other data on factors that affects sales or shrinkage, the correlation could've been different. \n",
    "\n",
    "Lack of available reliable data also resulted in clear limitation to the analysis. During the cleaning process we faced big obstacles such as inconsistent data. For example we wanted to calculate the unit price of each article and find the correlation with shrinkage. But the unit price calculated by each different numerical variables such as `sales in euros`/`sales in pieces`, `shrinkage in euros`/`shrinkage in pieces`, `stock in euros`/`stock per day` did not match, which makes it hard to determine which one is the right unit price. Also we observed handful of cases the pieces and euros column values not matching its pairs, such as  when pieces column were 0 when its euros column certainly had a value that was not 0. This kind of observations added big uncertainty on the dataset and set restrictions on what data we can use into analysis. In the future studies, we could take this limitation into account in the data collecting process.\n",
    "\n",
    "It is risky to generalize from the analysis of one month data in one supermarket as there's many underlying factors that influence the data of one particular setting. Still, the results from this project could be references for future inventory management. Stores could plan on restocking less on products that had higher shrinkage to sales ratio, or make plans for more aggressive promotion on products that tends to get wasted more often than others. Combined with extra data on the products such as lifespan of each product, these results could be helpful information on reducing the shrinkage and increasing the sales. "
   ]
  },
  {
   "cell_type": "markdown",
   "metadata": {},
   "source": [
    "# References"
   ]
  },
  {
   "cell_type": "markdown",
   "metadata": {},
   "source": [
    "https://www.thebalancesmb.com/top-sources-of-retail-shrinkage-2890265\n",
    "https://ec.europa.eu/food/safety/food_waste_en<br>\n",
    "http://www.eu-fusions.org/phocadownload/Publications/Estimates%20of%20European%20food%20waste%20levels.pdf"
   ]
  }
 ],
 "metadata": {
  "kernelspec": {
   "display_name": "Python 3",
   "language": "python",
   "name": "python3"
  },
  "language_info": {
   "codemirror_mode": {
    "name": "ipython",
    "version": 3
   },
   "file_extension": ".py",
   "mimetype": "text/x-python",
   "name": "python",
   "nbconvert_exporter": "python",
   "pygments_lexer": "ipython3",
   "version": "3.7.6"
  }
 },
 "nbformat": 4,
 "nbformat_minor": 2
}
